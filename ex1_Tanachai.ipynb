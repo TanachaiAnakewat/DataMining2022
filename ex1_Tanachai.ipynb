{
  "nbformat": 4,
  "nbformat_minor": 0,
  "metadata": {
    "colab": {
      "provenance": [],
      "collapsed_sections": []
    },
    "kernelspec": {
      "name": "python3",
      "display_name": "Python 3"
    },
    "language_info": {
      "name": "python"
    }
  },
  "cells": [
    {
      "cell_type": "markdown",
      "metadata": {
        "id": "2WVIxtiCgy6L"
      },
      "source": [
        "# EX1 Descriptive statistics\n",
        "The mean is one of typical descriptive statistics. The mean is used for describing the central tendency of data.\n",
        "\n",
        "When the data consists of $n$ numerical elements, the mean can be calculated as follows. \n",
        "\n",
        "$\\frac{1}{n}\\Sigma^{n}_{i=1}x_{i}$,\n",
        "\n",
        "where $x_{i}$ represents each element of the data.\n",
        "\n",
        "In the following,  implement Python code to calculate the mean, maximum, and minimum values given numerical data as a list.\n",
        "\n",
        "Points\n",
        "- Q1 5P\n",
        "- Q2 5P"
      ]
    },
    {
      "cell_type": "markdown",
      "metadata": {
        "id": "aN6b5pLGhN2z"
      },
      "source": [
        "## Q1\n",
        "Complete the `avg_max_min` function, which takes as input a list of any length with non-negative integers (at most 10,000,000) as elements and returns a list with the following as elements.\n",
        "- The mean value of the elements of the input list\n",
        "- The maximum value among the elements of the input list\n",
        "- The minimum value among the elements of the input list"
      ]
    },
    {
      "cell_type": "code",
      "metadata": {
        "id": "Ak00hVu7hThE",
        "exercise_id": "q1",
        "inlinetests": {
          "InlineTest_1": "\nassert 'avg_max_min' in globals(), f\"Have you defined the function 'avg_max_min'?\"\nassert str(avg_max_min.__class__) == \"<class 'function'>\", f\"Have you defined a function 'avg_max_min'? Found a {avg_max_min.__class__} instead\"\ntry:\n    lst = [30,39,29,95,70,67,29,56,45,68]\n    assert avg_max_min(lst) == [sum(lst)/len(lst), max(lst), min(lst)], f\"Your function 'avg_max_min' returns {avg_max_min(lst)}, while the expected answer is {[sum(lst)/len(lst), max(lst), min(lst)]}\"\nexcept AssertionError as e:\n    raise e\nexcept Exception as e:\n    assert False, f\"Your function 'avg_max_min' does not accept 'input_list' and raises an exception: {e}. Please try to pass `input_list` to your function.\""
        }
      },
      "source": [
        "def avg_max_min(input_list):\n",
        "  avg_value=0 # initial mean value\n",
        "  max_value=-1 # initial max value\n",
        "  min_value= 10**7 # initial min value\n",
        "  sum_value=0 # total value of the elements\n",
        "  results=[] # list to be returned\n",
        "    \n",
        "  for val in input_list:\n",
        "    sum_value = sum_value + val\n",
        "        \n",
        "    if val>max_value:\n",
        "      max_value = val\n",
        "            \n",
        "    if val<min_value:\n",
        "      min_value = val\n",
        "        \n",
        "  avg_value =  sum_value/len(input_list)\n",
        "    \n",
        "    \n",
        "  results.append(avg_value) \n",
        "  results.append(max_value)\n",
        "  results.append(min_value)\n",
        "  return results  "
      ],
      "execution_count": 3,
      "outputs": []
    },
    {
      "cell_type": "markdown",
      "metadata": {
        "id": "ejUJ4nxijTh-"
      },
      "source": [
        "Once the `avg_max_min` function is complete, run the following cell to see how it works."
      ]
    },
    {
      "cell_type": "code",
      "metadata": {
        "id": "zXtK0MUPjWMq",
        "colab": {
          "base_uri": "https://localhost:8080/"
        },
        "outputId": "8c86a6b9-7bc8-4b26-8a9f-edec1bf47815"
      },
      "source": [
        "avg_max_min([30,39,29,95,70,67,29,56,45,68])"
      ],
      "execution_count": 4,
      "outputs": [
        {
          "output_type": "execute_result",
          "data": {
            "text/plain": [
              "[52.8, 95, 29]"
            ]
          },
          "metadata": {},
          "execution_count": 4
        }
      ]
    },
    {
      "cell_type": "markdown",
      "metadata": {
        "id": "xT6PvVTNjcB2"
      },
      "source": [
        "Make sure that your function returns `[52.8, 95, 29]`. "
      ]
    },
    {
      "cell_type": "markdown",
      "metadata": {
        "id": "PanoCZkIj4oI"
      },
      "source": [
        "## Q2\n",
        "Complete the `population_stat` function:\n",
        "- first, read a \"SSDSE.csv\" file.\n",
        "- create a list of mean, maximum and minimum values for each column,  \"total population\", \"total population (male)\", \"total population (female)\".\n",
        "- The lists becomes the values of the dictionary to be returned, where its keys are \"total\", \"male\", and \"female\".\n",
        "\n",
        "you may use the `avg_max_min` function above.\n",
        "\n",
        "\n",
        "```Python\n",
        "## SSDSE.csv file\n",
        "code, prefecture, municipality, A1101,\tA110101, A110102, ...\n",
        "地域コード, 都道府県, 市区町村, 人口総数, 人口総数（男）, 人口総数（女）, ...\n",
        "R01100, 北海道, 札幌市, 1952356, 910614, 1041742\n",
        "R01202, 北海道, 函館市, 265979, 120376, 145603\n",
        "R01203, 北海道, 小樽市, 121924, 54985, 66939\n",
        "...\n",
        "\n",
        "## A dictionary to be returned\n",
        "{'total': ['人口総数の平均', '人口総数の最大値', '人口総数の最小値'],\n",
        " 'male': ['人口総数（男）の平均', '人口総数（男）の最大値', '人口総数（男）の最小値'],\n",
        " 'female': ['人口総数（女）の平均', '人口総数（女）の最大値', '人口総数（女）の最小値']}\n",
        "```\n",
        "\n",
        "### Reference\n",
        "\n",
        "- [教育用標準データセット](https://www.nstac.go.jp/SSDSE/)"
      ]
    },
    {
      "cell_type": "code",
      "metadata": {
        "id": "vEvQVmIIj3oU",
        "colab": {
          "base_uri": "https://localhost:8080/"
        },
        "outputId": "219ee1ae-1630-46d9-9f4b-b334d020565d"
      },
      "source": [
        "# Run this cell to download the data\n",
        "!wget https://raw.githubusercontent.com/UTDataMining/2022A/master/ex1/SSDSE.csv"
      ],
      "execution_count": 5,
      "outputs": [
        {
          "output_type": "stream",
          "name": "stdout",
          "text": [
            "--2022-10-13 10:53:53--  https://raw.githubusercontent.com/UTDataMining/2022A/master/ex1/SSDSE.csv\n",
            "Resolving raw.githubusercontent.com (raw.githubusercontent.com)... 185.199.111.133, 185.199.109.133, 185.199.110.133, ...\n",
            "Connecting to raw.githubusercontent.com (raw.githubusercontent.com)|185.199.111.133|:443... connected.\n",
            "HTTP request sent, awaiting response... 200 OK\n",
            "Length: 867732 (847K) [text/plain]\n",
            "Saving to: ‘SSDSE.csv’\n",
            "\n",
            "\rSSDSE.csv             0%[                    ]       0  --.-KB/s               \rSSDSE.csv           100%[===================>] 847.39K  --.-KB/s    in 0.008s  \n",
            "\n",
            "2022-10-13 10:53:53 (109 MB/s) - ‘SSDSE.csv’ saved [867732/867732]\n",
            "\n"
          ]
        }
      ]
    },
    {
      "cell_type": "code",
      "metadata": {
        "id": "24OikpbPkBfW",
        "exercise_id": "q2",
        "inlinetests": {
          "InlineTest_2": "\nassert 'population_stat' in globals(), f\"Have you defined the function 'petal_corr'?\"\nassert str(population_stat.__class__) == \"<class 'function'>\", f\"Have you defined a function 'population_stat'? Found a {population_stat.__class__} instead\"\ntry:\n  import pandas as pd\n  stat = pd.read_csv('SSDSE.csv',  skiprows=[1])\n  ans = {\"total\":[stat['A1101'].mean(), stat['A1101'].max(), stat['A1101'].min()], \"male\":[stat['A110101'].mean(), stat['A110101'].max(), stat['A110101'].min()], \"female\":[stat['A110102'].mean(), stat['A110102'].max(), stat['A110102'].min()]}\n  assert population_stat() == ans, f\"Your function 'population_stat' returns {population_stat()}, while the expected answer is {ans}\"\nexcept AssertionError as e:\n    raise e\nexcept Exception as e:\n    assert False, f\"Your function raises an exception: {e}.\""
        }
      },
      "source": [
        "import csv\n",
        "\n",
        "def population_stat():\n",
        "  total=[] # initial list of total population\n",
        "  male=[] # initial list of male population\n",
        "  female=[] # initial list of female population\n",
        "    \n",
        "  with open('SSDSE.csv', 'r', encoding=\"utf-8\") as handler: \n",
        "    csv_reader = csv.reader(handler) \n",
        "    for row in csv_reader: \n",
        "      if csv_reader.line_num > 2: \n",
        "          total.append(int(row[3]))\n",
        "          male.append(int(row[4]))\n",
        "          female.append(int(row[5]))\n",
        "    \n",
        "    total_stat = avg_max_min(total)\n",
        "    male_stat = avg_max_min(male)\n",
        "    female_stat = avg_max_min(female)\n",
        "    \n",
        "    results={\"total\":total_stat, \"male\":male_stat, \"female\":female_stat}\n",
        "    return results"
      ],
      "execution_count": 9,
      "outputs": []
    },
    {
      "cell_type": "markdown",
      "metadata": {
        "id": "D9S-TgSult7I"
      },
      "source": [
        "Once the `poplation_stat` function is complete, run the following cell to see how it works."
      ]
    },
    {
      "cell_type": "code",
      "metadata": {
        "id": "b3Hy-Flkl1Ff",
        "colab": {
          "base_uri": "https://localhost:8080/"
        },
        "outputId": "37df9140-dcd2-40c7-994d-add99e9c9d52"
      },
      "source": [
        "population_stat()"
      ],
      "execution_count": 10,
      "outputs": [
        {
          "output_type": "execute_result",
          "data": {
            "text/plain": [
              "{'total': [73001.00229753015, 3724844, 0],\n",
              " 'male': [35520.814474439976, 1855985, 0],\n",
              " 'female': [37480.18782309018, 1868859, 0]}"
            ]
          },
          "metadata": {},
          "execution_count": 10
        }
      ]
    },
    {
      "cell_type": "markdown",
      "metadata": {
        "id": "NeRqoGxvmDlS"
      },
      "source": [
        "Make sure your function returns`{'total': [73001.00229753015, 3724844, 0],\n",
        " 'male': [35520.814474439976, 1855985, 0],\n",
        " 'female': [37480.18782309018, 1868859, 0]}`.\n",
        "\n",
        "The order of the keys can be different.\n",
        " "
      ]
    },
    {
      "cell_type": "markdown",
      "metadata": {
        "id": "9uNQmVQCmTi-"
      },
      "source": [
        "# Code Testing"
      ]
    },
    {
      "cell_type": "code",
      "metadata": {
        "id": "EImwWFwUgr2-",
        "colab": {
          "base_uri": "https://localhost:8080/"
        },
        "outputId": "6edb950c-fdd4-4485-c527-34473a6fa0f5"
      },
      "source": [
        "# Run this cell\n",
        "!pip install prog_edu_assistant_tools\n",
        "import re\n",
        "import sys\n",
        "import jinja2\n",
        "from IPython.core import display\n",
        "from google.colab import _message as google_message\n",
        "from prog_edu_assistant_tools.magics import report, autotest, CaptureOutput\n",
        "from prog_edu_assistant_tools.check import Check"
      ],
      "execution_count": 11,
      "outputs": [
        {
          "output_type": "stream",
          "name": "stdout",
          "text": [
            "Looking in indexes: https://pypi.org/simple, https://us-python.pkg.dev/colab-wheels/public/simple/\n",
            "Collecting prog_edu_assistant_tools\n",
            "  Downloading prog_edu_assistant_tools-0.3.1-py3-none-any.whl (16 kB)\n",
            "Requirement already satisfied: Jinja2 in /usr/local/lib/python3.7/dist-packages (from prog_edu_assistant_tools) (2.11.3)\n",
            "Requirement already satisfied: IPython in /usr/local/lib/python3.7/dist-packages (from prog_edu_assistant_tools) (7.9.0)\n",
            "Collecting jedi>=0.10\n",
            "  Downloading jedi-0.18.1-py2.py3-none-any.whl (1.6 MB)\n",
            "\u001b[K     |████████████████████████████████| 1.6 MB 29.2 MB/s \n",
            "\u001b[?25hRequirement already satisfied: pickleshare in /usr/local/lib/python3.7/dist-packages (from IPython->prog_edu_assistant_tools) (0.7.5)\n",
            "Requirement already satisfied: pexpect in /usr/local/lib/python3.7/dist-packages (from IPython->prog_edu_assistant_tools) (4.8.0)\n",
            "Requirement already satisfied: traitlets>=4.2 in /usr/local/lib/python3.7/dist-packages (from IPython->prog_edu_assistant_tools) (5.1.1)\n",
            "Requirement already satisfied: decorator in /usr/local/lib/python3.7/dist-packages (from IPython->prog_edu_assistant_tools) (4.4.2)\n",
            "Requirement already satisfied: setuptools>=18.5 in /usr/local/lib/python3.7/dist-packages (from IPython->prog_edu_assistant_tools) (57.4.0)\n",
            "Requirement already satisfied: prompt-toolkit<2.1.0,>=2.0.0 in /usr/local/lib/python3.7/dist-packages (from IPython->prog_edu_assistant_tools) (2.0.10)\n",
            "Requirement already satisfied: pygments in /usr/local/lib/python3.7/dist-packages (from IPython->prog_edu_assistant_tools) (2.6.1)\n",
            "Requirement already satisfied: backcall in /usr/local/lib/python3.7/dist-packages (from IPython->prog_edu_assistant_tools) (0.2.0)\n",
            "Requirement already satisfied: parso<0.9.0,>=0.8.0 in /usr/local/lib/python3.7/dist-packages (from jedi>=0.10->IPython->prog_edu_assistant_tools) (0.8.3)\n",
            "Requirement already satisfied: six>=1.9.0 in /usr/local/lib/python3.7/dist-packages (from prompt-toolkit<2.1.0,>=2.0.0->IPython->prog_edu_assistant_tools) (1.15.0)\n",
            "Requirement already satisfied: wcwidth in /usr/local/lib/python3.7/dist-packages (from prompt-toolkit<2.1.0,>=2.0.0->IPython->prog_edu_assistant_tools) (0.2.5)\n",
            "Requirement already satisfied: MarkupSafe>=0.23 in /usr/local/lib/python3.7/dist-packages (from Jinja2->prog_edu_assistant_tools) (2.0.1)\n",
            "Requirement already satisfied: ptyprocess>=0.5 in /usr/local/lib/python3.7/dist-packages (from pexpect->IPython->prog_edu_assistant_tools) (0.7.0)\n",
            "Installing collected packages: jedi, prog-edu-assistant-tools\n",
            "Successfully installed jedi-0.18.1 prog-edu-assistant-tools-0.3.1\n"
          ]
        }
      ]
    },
    {
      "cell_type": "markdown",
      "metadata": {
        "id": "8uK76x5anMpX"
      },
      "source": [
        "## Q1"
      ]
    },
    {
      "cell_type": "code",
      "metadata": {
        "id": "TdDp1LLfmy7I",
        "colab": {
          "base_uri": "https://localhost:8080/",
          "height": 461
        },
        "outputId": "99c31c68-f9b0-4fc2-921e-bd10642b5ac5"
      },
      "source": [
        "# Run this cell to check your solution.\n",
        "# If you get an error 'Check not defined', make sure you have run all preceding\n",
        "# cells once (Runtime -> Run before)\n",
        "Check('q1')"
      ],
      "execution_count": 12,
      "outputs": [
        {
          "output_type": "execute_result",
          "data": {
            "text/plain": [
              "<IPython.core.display.HTML object>"
            ],
            "text/html": [
              "\n",
              "  <h4 style='color: #387;'>Your submission</h4>\n",
              "  <pre style='background: #F0F0F0; padding: 3pt; margin: 4pt; border: 1pt solid #DDD; border-radius: 3pt;'>def avg_max_min(input_list):\n",
              "  avg_value=0 # initial mean value\n",
              "  max_value=-1 # initial max value\n",
              "  min_value= 10**7 # initial min value\n",
              "  sum_value=0 # total value of the elements\n",
              "  results=[] # list to be returned\n",
              "    \n",
              "  for val in input_list:\n",
              "    sum_value = sum_value + val\n",
              "        \n",
              "    if val>max_value:\n",
              "      max_value = val\n",
              "            \n",
              "    if val<min_value:\n",
              "      min_value = val\n",
              "        \n",
              "  avg_value =  sum_value/len(input_list)\n",
              "    \n",
              "    \n",
              "  results.append(avg_value) \n",
              "  results.append(max_value)\n",
              "  results.append(min_value)\n",
              "  return results  </pre>\n",
              "  <h4 style='color: #387;'>Results</h4>\n",
              "  \n",
              "  &#x2705;\n",
              "  Looks OK.\n",
              "  "
            ]
          },
          "metadata": {},
          "execution_count": 12
        }
      ]
    },
    {
      "cell_type": "markdown",
      "metadata": {
        "id": "rBbzkn-GnUW8"
      },
      "source": [
        "## Q2"
      ]
    },
    {
      "cell_type": "code",
      "metadata": {
        "id": "hZiCuyQpm_o1",
        "colab": {
          "base_uri": "https://localhost:8080/",
          "height": 491
        },
        "outputId": "44609b46-a170-4371-8b54-df3cc1296472"
      },
      "source": [
        "# Run this cell to check your solution.\n",
        "# If you get an error 'Check not defined', make sure you have run all preceding\n",
        "# cells once (Runtime -> Run before)\n",
        "Check('q2')"
      ],
      "execution_count": 13,
      "outputs": [
        {
          "output_type": "execute_result",
          "data": {
            "text/plain": [
              "<IPython.core.display.HTML object>"
            ],
            "text/html": [
              "\n",
              "  <h4 style='color: #387;'>Your submission</h4>\n",
              "  <pre style='background: #F0F0F0; padding: 3pt; margin: 4pt; border: 1pt solid #DDD; border-radius: 3pt;'>import csv\n",
              "\n",
              "def population_stat():\n",
              "  total=[] # initial list of total population\n",
              "  male=[] # initial list of male population\n",
              "  female=[] # initial list of female population\n",
              "    \n",
              "  with open('SSDSE.csv', 'r', encoding=\"utf-8\") as handler: \n",
              "    csv_reader = csv.reader(handler) \n",
              "    for row in csv_reader: \n",
              "      if csv_reader.line_num > 2: \n",
              "          total.append(int(row[3]))\n",
              "          male.append(int(row[4]))\n",
              "          female.append(int(row[5]))\n",
              "    \n",
              "    total_stat = avg_max_min(total)\n",
              "    male_stat = avg_max_min(male)\n",
              "    female_stat = avg_max_min(female)\n",
              "    \n",
              "    results={\"total\":total_stat, \"male\":male_stat, \"female\":female_stat}\n",
              "    return results</pre>\n",
              "  <h4 style='color: #387;'>Results</h4>\n",
              "  \n",
              "  &#x2705;\n",
              "  Looks OK.\n",
              "  "
            ]
          },
          "metadata": {},
          "execution_count": 13
        }
      ]
    }
  ]
}