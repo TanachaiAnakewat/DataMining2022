{
  "cells": [
    {
      "cell_type": "markdown",
      "metadata": {
        "id": "YKQHFgPqOYYC"
      },
      "source": [
        "# 第2回本課題\n",
        "\n",
        "[English version](https://colab.research.google.com/drive/1l-YzyBCgO-pesNzjEXrPCHAGcpI7GLMV)"
      ]
    },
    {
      "cell_type": "markdown",
      "metadata": {
        "id": "rkF0b6zWOYYF"
      },
      "source": [
        "## Ex2-1. 演算子の計算\n",
        "\n",
        "`[('+', 3), ('-', 5), ('+', 2), ('+', 1), ('-', 10)]` のように、\n",
        "演算子の文字列（`+` または `-`）と整数からなるタプルを格納したリスト `lp` が与えられたとき、\n",
        "初期値 `0` に対して、リストの各タプルの演算子と整数を順に適用して得られる結果を返す関数\n",
        "`calculate_ops(lp)` を定義して下さい。\n",
        "\n",
        "たとえば、`lp` が上の例の場合、`calculate_ops(lp)` は `0+3-5+2+1-10` の計算結果を返します。"
      ]
    },
    {
      "cell_type": "code",
      "execution_count": 1,
      "metadata": {
        "id": "v4f12W9SOYYG"
      },
      "outputs": [],
      "source": [
        "##########################################################\n",
        "##  <[ ex2-1-calculate_ops ]> 解答セル (Answer cell)\n",
        "##  このコメントの書き変えを禁ず (Never edit this comment)\n",
        "##########################################################\n",
        "\n",
        "QUESTION_EXISTS = False # 質問がある場合は True に変えて，このセル内のコメントとして質問を記述してください\n",
        "                        # Change to True if you have questions, and describe them as comments in this cell\n",
        "\n",
        "def calculate_ops(lp):\n",
        "  result=0\n",
        "  for l in lp:\n",
        "    if l[0]=='+':\n",
        "      result+=l[1]\n",
        "    else:\n",
        "      result-=l[1]\n",
        "  return result"
      ]
    },
    {
      "cell_type": "markdown",
      "metadata": {
        "id": "BYlnLoDCOYYH"
      },
      "source": [
        "提出前に以下のテストセルを実行し、エラーがでないことを確認してください。"
      ]
    },
    {
      "cell_type": "code",
      "execution_count": 2,
      "metadata": {
        "id": "n8rFXulFOYYI"
      },
      "outputs": [],
      "source": [
        "assert calculate_ops([('+', 3), ('-', 5), ('+', 2), ('+', 1), ('-', 10)]) == -9\n",
        "assert calculate_ops([('-', 1), ('-', 2), ('-', 3)]) == -6\n",
        "assert calculate_ops([('+', 1), ('+', 2), ('+', 3)]) == 6\n",
        "assert calculate_ops([]) == 0"
      ]
    }
  ],
  "metadata": {
    "judge_submission": {
      "exercises": {
        "ex2-1-calculate_ops": "5c08fedc9adffdedcceb2241dee4c7676cbf22eb"
      },
      "extraction": true
    },
    "kernelspec": {
      "display_name": "Python 3",
      "language": "python",
      "name": "python3"
    },
    "language_info": {
      "name": "python"
    },
    "colab": {
      "provenance": []
    }
  },
  "nbformat": 4,
  "nbformat_minor": 0
}