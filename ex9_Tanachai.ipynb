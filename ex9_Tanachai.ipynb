{
  "nbformat": 4,
  "nbformat_minor": 0,
  "metadata": {
    "colab": {
      "provenance": [],
      "include_colab_link": true
    },
    "kernelspec": {
      "name": "python3",
      "display_name": "Python 3"
    },
    "language_info": {
      "name": "python"
    }
  },
  "cells": [
    {
      "cell_type": "markdown",
      "metadata": {
        "id": "view-in-github",
        "colab_type": "text"
      },
      "source": [
        "<a href=\"https://colab.research.google.com/github/TanachaiAnakewat/DataMining2022/blob/main/ex9_Tanachai.ipynb\" target=\"_parent\"><img src=\"https://colab.research.google.com/assets/colab-badge.svg\" alt=\"Open In Colab\"/></a>"
      ]
    },
    {
      "cell_type": "markdown",
      "metadata": {
        "id": "0gcNG92z6Aaj"
      },
      "source": [
        "# EX9 Logistic Regression\n",
        "\n",
        "Points\n",
        "- Q1 2\n",
        "- Q2 5\n",
        "- Q3 3\n"
      ]
    },
    {
      "cell_type": "code",
      "metadata": {
        "id": "O7WiivOU6DKx"
      },
      "source": [
        "import numpy as np\n",
        "import pandas as pd\n",
        "import  matplotlib.pyplot  as plt\n",
        "%matplotlib inline"
      ],
      "execution_count": 1,
      "outputs": []
    },
    {
      "cell_type": "code",
      "metadata": {
        "id": "nUP5GXtj6S4g",
        "colab": {
          "base_uri": "https://localhost:8080/"
        },
        "outputId": "4473f7a4-a6ea-40e1-8329-ecfce4f3a35e"
      },
      "source": [
        "# Colaboratoryでは以下を実行して必要なファイルをダウンロード\n",
        "!wget https://raw.githubusercontent.com/UTDataMining/2022A/master/ex8/iris.csv"
      ],
      "execution_count": 2,
      "outputs": [
        {
          "output_type": "stream",
          "name": "stdout",
          "text": [
            "--2022-12-09 04:53:27--  https://raw.githubusercontent.com/UTDataMining/2022A/master/ex8/iris.csv\n",
            "Resolving raw.githubusercontent.com (raw.githubusercontent.com)... 185.199.108.133, 185.199.109.133, 185.199.110.133, ...\n",
            "Connecting to raw.githubusercontent.com (raw.githubusercontent.com)|185.199.108.133|:443... connected.\n",
            "HTTP request sent, awaiting response... 200 OK\n",
            "Length: 3716 (3.6K) [text/plain]\n",
            "Saving to: ‘iris.csv’\n",
            "\n",
            "\riris.csv              0%[                    ]       0  --.-KB/s               \riris.csv            100%[===================>]   3.63K  --.-KB/s    in 0s      \n",
            "\n",
            "2022-12-09 04:53:27 (33.8 MB/s) - ‘iris.csv’ saved [3716/3716]\n",
            "\n"
          ]
        }
      ]
    },
    {
      "cell_type": "markdown",
      "metadata": {
        "id": "b5lTDaw-6bYA"
      },
      "source": [
        "The following scatterplot shows the flowers `versicolor` and `virginica` in the `petal_length` and `petal_width` feature space of the iris dataset. The two flower types are characterized differently in this feature space."
      ]
    },
    {
      "cell_type": "code",
      "metadata": {
        "id": "3XP3ORUe6aIP",
        "outputId": "2d092cd3-2be5-49a3-cfeb-eb803d9f6f68",
        "colab": {
          "base_uri": "https://localhost:8080/",
          "height": 335
        }
      },
      "source": [
        "iris = pd.read_csv('iris.csv')\n",
        "X=iris[(iris['species']=='versicolor')| (iris['species']=='virginica')][['petal_length', 'petal_width']].values\n",
        "y=iris[(iris['species']=='versicolor')| (iris['species']=='virginica')][['species']].values\n",
        "y = (y=='versicolor').astype(int) # versicolorを1、virginicaを0に\n",
        "\n",
        "plt.figure(figsize=(7,5))\n",
        "plt.xlabel('petal_length')\n",
        "plt.ylabel('petal_width')\n",
        "plt.scatter(X[:,0], X[:,1], c=y[:,0]);"
      ],
      "execution_count": 3,
      "outputs": [
        {
          "output_type": "display_data",
          "data": {
            "text/plain": [
              "<Figure size 504x360 with 1 Axes>"
            ],
            "image/png": "[encoded data removed]"
          },
          "metadata": {
            "needs_background": "light"
          }
        }
      ]
    },
    {
      "cell_type": "markdown",
      "metadata": {
        "id": "q4zQ34Ea6h8p"
      },
      "source": [
        "In the following, let us consider learning the parameters of our hypothetical function to predict the flower label `versicolor` or `virginica` from  the features `petal_width` and `petal_length` using logistic regression.\n",
        "\n",
        "First, let the features `petal_length` and `petal_width` be an input $X$ and let the flower label `versicolor` or `virginica` be an output $y$. As a preparation, consider normalizing the features and adding a bias term ($x_0=1$) by inserting a column vector with elements of 1 in the first column of `X`. \n",
        "\n",
        "As a result, we now have $X$ ($m \\times 3$) and $y$ ($m \\times 1$) for our input and output data respectively.\n"
      ]
    },
    {
      "cell_type": "code",
      "metadata": {
        "id": "ClyU2WyL6fAv"
      },
      "source": [
        "X_norm=(X-np.mean(X, axis=0))/np.std(X, axis=0) # 標準化\n",
        "X_norm = np.hstack([np.ones((X.shape[0],1)), X_norm]) # バイアス項の追加"
      ],
      "execution_count": 4,
      "outputs": []
    },
    {
      "cell_type": "markdown",
      "metadata": {
        "id": "fcDrn9LX6nad"
      },
      "source": [
        "## Q1 Sigmoid function\n",
        "\n",
        "The sigmoid function $g(z)$ is defined as follows\n",
        "\n",
        "$g(z)=\\frac{1}{1+e^{-z}}$\n",
        "\n",
        "Complete the `sigmoid` function that takes as input an array `Z` of any length with real values as elements and returns an array whose elements are the values of the sigmoid function for each element of the input array.\n",
        "\n",
        "[numpy.exp](https://docs.scipy.org/doc/numpy/reference/generated/numpy.exp.html)\n",
        "\n"
      ]
    },
    {
      "cell_type": "code",
      "metadata": {
        "id": "AFZYKmIf6mI_",
        "exercise_id": "q1",
        "inlinetests": {
          "InlineTest_1": "\nassert 'sigmoid' in globals(), f\"Have you defined the function 'sigmoid'?\"\nassert str(sigmoid.__class__) == \"<class 'function'>\", f\"Have you defined a function 'sigmoid'? Found a {sigmoid.__class__} instead\"\ntry:\n    assert np.round(sigmoid(np.array([-1.0,0.0,1.0])),2)[0] == 0.27, f\"Your function 'sigmoid' returns {sigmoid(np.array([-1.0,0.0,1.0]))}, while the expected answer is array([0.26..., 0.5, 0.73...])\"\n    assert np.round(sigmoid(np.array([-1.0,0.0,1.0])),2)[1] == 0.5, f\"Your function 'sigmoid' returns {sigmoid(np.array([-1.0,0.0,1.0]))}, while the expected answer is array([0.26..., 0.5, 0.73...])\"\n    assert np.round(sigmoid(np.array([-1.0,0.0,1.0])),2)[2] == 0.73, f\"Your function 'sigmoid' returns {sigmoid(np.array([-1.0,0.0,1.0]))}, while the expected answer is array([0.26..., 0.5, 0.73...])\"\nexcept AssertionError as e:\n    raise e\nexcept Exception as e:\n    assert False, f\"Your function 'sigmoid' does not accept 'Z' and raises an exception: {e}. Please try to pass `Z` to your function.\""
        }
      },
      "source": [
        "def sigmoid(Z):\n",
        "    Z = Z.astype(float) # float型にしておく\n",
        "    return 1/(1+np.exp(-Z))"
      ],
      "execution_count": 5,
      "outputs": []
    },
    {
      "cell_type": "markdown",
      "metadata": {
        "id": "Lvc5jY3R8N7a"
      },
      "source": [
        "Once the `sigmoid` function is complete, run the following cell. Your function should return an arrary `[0.26..., 0.5, 0.73...]`."
      ]
    },
    {
      "cell_type": "code",
      "metadata": {
        "id": "lFOiZ7528VOH",
        "outputId": "860644a3-6c00-4990-a8ab-4d770d06692a",
        "colab": {
          "base_uri": "https://localhost:8080/"
        }
      },
      "source": [
        "sigmoid(np.array([-1,0,1]))"
      ],
      "execution_count": 6,
      "outputs": [
        {
          "output_type": "execute_result",
          "data": {
            "text/plain": [
              "array([0.26894142, 0.5       , 0.73105858])"
            ]
          },
          "metadata": {},
          "execution_count": 6
        }
      ]
    },
    {
      "cell_type": "markdown",
      "metadata": {
        "id": "ollemzWpA5Gn"
      },
      "source": [
        "## Q2 Gradient descent\n",
        "\n",
        "In the following, we implement the `graddes_logit` function that learns the parameters of a hypothetical function for logistic regression using the gradient descent method. \n",
        "\n",
        "The `graddes_logit` function takes the input data (number of data ($m$)$\\times$(number of features + bias)($n$)), the output data ($m\\times1$), the learning rate, and the number of training iterations (each iteration is called an epoch) with the arguments `X`, `y`, `alpha`, and `n_iter` respectively.\n",
        "\n",
        "The `graddes_logit` function learns the parameters and then returns:\n",
        "- A list consisting of the costs of each iteration\n",
        "- An array of the parameters ($n\\times1$)\n",
        "\n",
        "#### Model training\n",
        "Let parameters be\n",
        "\n",
        "$\\theta=(\\theta_0, \\theta_1, ..., \\theta_{n-1})^T$,\n",
        "\n",
        "a hypothetical function (model) be\n",
        "\n",
        "$h(x)=g(\\theta_0+\\theta_1x_1+\\theta_2x_2+....+\\theta_{n-1}x_{n-1})=g(\\theta^Tx)=\\frac{1}{1+e^{-\\theta^Tx}}$,\n",
        "\n",
        "an input be\n",
        "\n",
        "$\n",
        "  X = \\left(\n",
        "    \\begin{array}{cccc}\n",
        "      x_0^{(1)} &   x_1^{(1)} & ... &   x_{n-1}^{(1)}  \\\\\n",
        "      ... & ...& ...&...\\\\\n",
        "      x_0^{(m)} &  x_1^{(m)} & ... &   x_{n-1}^{(m)}  \\\\\n",
        "    \\end{array}\n",
        "  \\right)\n",
        "$\n",
        "\n",
        "(where $x_0^{(i)}=1$),\n",
        "\n",
        "and an output be\n",
        "\n",
        "$y=(y^{(1)}, y^{(2)}, ..., y^{(m)})^T$.\n",
        "\n",
        "Given the following cost function\n",
        "\n",
        "$J(\\theta)=-\\frac{1}{m}\\Sigma_{i=1}^{m}(y^{(i)}log(h(x^{(i)}))+(1-y^{(i)})log(1-h(x^{(i)})))$\n",
        "\n",
        "we update the parameter $\\theta_j$ corresponding the feature $x_j$ of $X$ using the gradient descent method as follows:\n",
        "\n",
        "$\\theta_j:= \\theta_j - \\alpha \\frac{\\partial J(\\theta)}{\\partial \\theta_j} =  \\theta_j - \\frac{\\alpha}{m} \\Sigma_{i=1}^m ((h(x^{(i)})-y^{(i)})x^{(i)}_j)$\n",
        "\n",
        "\n",
        "The entire parameters can also be updated at once as follows:\n",
        "\n",
        "\n",
        "$\\theta := \\theta - \\frac{\\alpha}{m}X^T(g(X\\theta)-y)$\n",
        "\n",
        "When we have one feature as the input, the parameters are updated as follows:\n",
        "\n",
        "$\\theta_0 := \\theta_0 - \\frac{\\alpha}{m}\\Sigma_{i=1}^m (h(x^{(i)})-y^{(i)})$ \n",
        "\n",
        "(the parameter for a bias term)\n",
        "\n",
        "$\\theta_1 := \\theta_1 - \\frac{\\alpha}{m}\\Sigma_{i=1}^m ((h(x^{(i)})-y^{(i)})x^{(i)})$\n",
        "\n",
        "(the parameter for the input feature)\n",
        "\n",
        "The `graddes_logit` function learns the parameters according to the following procedure.\n",
        "\n",
        "- Repeat the following procedure `n_iter` times    \n",
        "     - For all m data\n",
        "        - Calculate the output of the hypothesis function $h(x^{(i)})$ for $x^{(i)}$.  \n",
        "        - Calculate the error $h(x^{(i)})-y^{(i)}$ with $y^{(i)}$.\n",
        "     - Calculate the cost $J(\\theta)$ using the errors of all m data and append it to `costs`.\n",
        "     - Update `w` with the parameters $\\theta_j(j=0,. ,n-1)$ using the errors of all m data,\n",
        "          - `w[0,0]`$:=$(parameter $\\theta_0$ for $x_0$), \n",
        "          - ... ,\n",
        "          - `w[n-1,0]`$:=$(parameter $\\theta_{n-1}$ for $x_{n-1}$)\n",
        "\n",
        "Return `costs` and `w` after all the iterations have been completed.\n",
        " \n",
        "Complete the `graddes_logit` function according to the above procedure."
      ]
    },
    {
      "cell_type": "code",
      "metadata": {
        "id": "Lz8k7jY0A4la",
        "exercise_id": "q2",
        "inlinetests": {
          "InlineTest_2": "\nassert 'graddes_logit' in globals(), f\"Have you defined the function 'graddes_logit'?\"\nassert str(graddes_logit.__class__) == \"<class 'function'>\", f\"Have you defined a function 'graddes_logit'? Found a {graddes_logit.__class__} instead\"\ntry:\n    iris = pd.read_csv('iris.csv')\n    X=iris[(iris['species']=='versicolor')| (iris['species']=='virginica')][['petal_length', 'petal_width']].values\n    y=iris[(iris['species']=='versicolor')| (iris['species']=='virginica')][['species']].values\n    y = (y=='versicolor').astype(int)\n    costs, w = graddes_logit(np.hstack([np.ones((X.shape[0],1)), (X-np.mean(X, axis=0))/np.std(X, axis=0)]), y, 0.1, 100)\n    assert int(costs[-1]*1000) == 199, f\"Your function 'graddes_logit' with alpha:0.1 and n_iter:100 returns {costs[-1]}, while the expected answer is 0.199...\"\nexcept AssertionError as e:\n    raise e\nexcept Exception as e:\n    assert False, f\"Your function 'graddes_logit' does not accept 'X_norm, y' and raises an exception: {e}. Please try to pass `X_norm, y` to your function.\""
        }
      },
      "source": [
        "def graddes_logit(X, y, alpha, n_iter):  \n",
        "    m = X.shape[0] # データ数\n",
        "    n =  X.shape[1] # 次元（特徴量+バイアス）数\n",
        "    \n",
        "    costs=[] # エポックごとのコスト関数の値を入れるリスト\n",
        "    w = np.zeros((n,1)) #  バイアスと各特徴量に対するパラメータ（重み）の初期化\n",
        "    \n",
        "    for i in range(n_iter):\n",
        "      cost = 0\n",
        "      errors = []\n",
        "      for j in range(m):\n",
        "        h = sigmoid(np.dot(np.transpose(w),X[j]))\n",
        "        error = h - y[j]\n",
        "        errors.append(error)\n",
        "        cost += y[j]*np.log(h)+(1-y[j])*np.log(1-h)\n",
        "      costs.append(-cost/m)\n",
        "\n",
        "      for j in range(n):\n",
        "        for k in range(m):\n",
        "          w[j][0] -= (alpha * errors[k] * X[k][j])/m\n",
        "        \n",
        "    return costs, w"
      ],
      "execution_count": 24,
      "outputs": []
    },
    {
      "cell_type": "code",
      "source": [
        "w = np.zeros((2,1))\n",
        "w[1][0] = 1\n",
        "w"
      ],
      "metadata": {
        "colab": {
          "base_uri": "https://localhost:8080/"
        },
        "id": "hOl9wH2Xd90V",
        "outputId": "f220b622-96dd-4aa5-e1f8-30e5c8481dd4"
      },
      "execution_count": 22,
      "outputs": [
        {
          "output_type": "execute_result",
          "data": {
            "text/plain": [
              "array([[0.],\n",
              "       [1.]])"
            ]
          },
          "metadata": {},
          "execution_count": 22
        }
      ]
    },
    {
      "cell_type": "markdown",
      "metadata": {
        "id": "unuX8XfxCGhp"
      },
      "source": [
        "Once the `graddes_logit` is complete, run the following cell. Your function should return the cost $\\simeq 0.199$.\n"
      ]
    },
    {
      "cell_type": "code",
      "metadata": {
        "id": "hletTfZgCJbb",
        "colab": {
          "base_uri": "https://localhost:8080/",
          "height": 403
        },
        "outputId": "61d86b45-4f71-4a1a-8c36-6e5e43b8cd1a"
      },
      "source": [
        "a=0.1 # 学習率\n",
        "n=100 # 繰り返し回数\n",
        "costs, w = graddes_logit(X_norm, y, a, n)\n",
        "print(costs[-1])\n",
        "print(w)\n",
        "plt.figure(figsize=(7,5))\n",
        "plt.plot(range(1,n+1),costs) # 繰り返しとコスト関数のプロット\n",
        "plt.ylabel('Cost')\n",
        "plt.xlabel('Iteration');"
      ],
      "execution_count": 25,
      "outputs": [
        {
          "output_type": "stream",
          "name": "stdout",
          "text": [
            "[0.19912466]\n",
            "[[-0.02318852]\n",
            " [-1.28885231]\n",
            " [-1.41169382]]\n"
          ]
        },
        {
          "output_type": "display_data",
          "data": {
            "text/plain": [
              "<Figure size 504x360 with 1 Axes>"
            ],
            "image/png": "[encoded data removed]"
          },
          "metadata": {
            "needs_background": "light"
          }
        }
      ]
    },
    {
      "cell_type": "markdown",
      "metadata": {
        "id": "VJGJKnzODzjk"
      },
      "source": [
        "Let us visualize the decision boundary for classifying two flower types, `versicolor` or `virginica`, from two features, `petal_length` and `petal_width`.\n"
      ]
    },
    {
      "cell_type": "code",
      "metadata": {
        "id": "z-dg2SF8D2Bj",
        "colab": {
          "base_uri": "https://localhost:8080/",
          "height": 335
        },
        "outputId": "5b97e5f4-adae-47e9-e4f6-08d42e7d10f2"
      },
      "source": [
        "plt.figure(figsize=(7,5))\n",
        "x1=np.arange(X_norm[:,1].min(),X_norm[:,1].max(),0.1)\n",
        "plt.plot(x1, -(w[1,0]*x1+w[0,0])/w[2,0])\n",
        "plt.xlabel('petal_length')\n",
        "plt.ylabel('petal_width')\n",
        "plt.scatter(X_norm[:,1], X_norm[:,2],c=y[:,0]);"
      ],
      "execution_count": 26,
      "outputs": [
        {
          "output_type": "display_data",
          "data": {
            "text/plain": [
              "<Figure size 504x360 with 1 Axes>"
            ],
            "image/png": "[encoded data removed]"
          },
          "metadata": {
            "needs_background": "light"
          }
        }
      ]
    },
    {
      "cell_type": "markdown",
      "metadata": {
        "id": "ZUS50EcMD-Ed"
      },
      "source": [
        "The line where $y=0.5$ on the following sigmoid surface is the decision boundary above, where the sigmoid funciton is $y=\\frac{1}{1+e^{-(\\theta_0+\\theta_1x_1+\\theta_2x_2)}}$ ($x_1$:`petal_length`and $x_2$:`petal_width`)."
      ]
    },
    {
      "cell_type": "code",
      "metadata": {
        "id": "mRmZtB0xD7vM",
        "colab": {
          "base_uri": "https://localhost:8080/",
          "height": 411
        },
        "outputId": "3c7768df-335c-4399-970f-cd5075b1c264"
      },
      "source": [
        "from mpl_toolkits.mplot3d import Axes3D\n",
        "\n",
        "X1, X2 = np.meshgrid(np.arange(-2.0, 2.0, 0.1), np.arange(-2.0, 2.0, 0.1))\n",
        "Z = sigmoid(w[0,0]+w[1,0]*X1+ w[2,0]*X2)\n",
        "\n",
        "fig = plt.figure(figsize=(10,7))\n",
        "ax = fig.add_subplot(111, projection=\"3d\")\n",
        "ax.set_xlabel(\"petal_length\")\n",
        "ax.set_ylabel(\"petal_widht\")\n",
        "ax.plot_wireframe(X1, X2, Z);"
      ],
      "execution_count": 27,
      "outputs": [
        {
          "output_type": "display_data",
          "data": {
            "text/plain": [
              "<Figure size 720x504 with 1 Axes>"
            ],
            "image/png": "[encoded data removed]"
          },
          "metadata": {
            "needs_background": "light"
          }
        }
      ]
    },
    {
      "cell_type": "markdown",
      "metadata": {
        "id": "JOEZ0P0nEReh"
      },
      "source": [
        "## Q3 Evaluation\n",
        "In the following, we load the titanic dataset `'titanic.csv'`. Cosider training a logistic regression model to predict whether a passenger is survived or not (`Survived`) given his or her features (`Pclass` (cabin grade), `Fare` (fare), `Age` (age) and `Sex` (gender)).\n"
      ]
    },
    {
      "cell_type": "code",
      "metadata": {
        "id": "1nlkIg_UEYgM",
        "colab": {
          "base_uri": "https://localhost:8080/"
        },
        "outputId": "b8f95b88-26c3-4335-c792-5c02af8afeef"
      },
      "source": [
        "# Colaboratoryでは以下を実行して必要なファイルをダウンロード\n",
        "!wget https://raw.githubusercontent.com/UTDataMining/2022A/master/ex9/titanic.csv"
      ],
      "execution_count": 31,
      "outputs": [
        {
          "output_type": "stream",
          "name": "stdout",
          "text": [
            "--2022-12-09 06:03:46--  https://raw.githubusercontent.com/UTDataMining/2022A/master/ex9/titanic.csv\n",
            "Resolving raw.githubusercontent.com (raw.githubusercontent.com)... 185.199.108.133, 185.199.109.133, 185.199.110.133, ...\n",
            "Connecting to raw.githubusercontent.com (raw.githubusercontent.com)|185.199.108.133|:443... connected.\n",
            "HTTP request sent, awaiting response... 200 OK\n",
            "Length: 44225 (43K) [text/plain]\n",
            "Saving to: ‘titanic.csv’\n",
            "\n",
            "\rtitanic.csv           0%[                    ]       0  --.-KB/s               \rtitanic.csv         100%[===================>]  43.19K  --.-KB/s    in 0.01s   \n",
            "\n",
            "2022-12-09 06:03:47 (4.34 MB/s) - ‘titanic.csv’ saved [44225/44225]\n",
            "\n"
          ]
        }
      ]
    },
    {
      "cell_type": "code",
      "metadata": {
        "id": "_05y67MUEcHr",
        "outputId": "d8fee8fe-0713-41b6-a66f-d62b8eb73b74",
        "colab": {
          "base_uri": "https://localhost:8080/",
          "height": 206
        }
      },
      "source": [
        "df = pd.read_csv('titanic.csv')\n",
        "df[['Pclass','Fare','Age','Sex','Survived']].head()"
      ],
      "execution_count": 32,
      "outputs": [
        {
          "output_type": "execute_result",
          "data": {
            "text/plain": [
              "   Pclass     Fare   Age     Sex  Survived\n",
              "0       3   7.2500  22.0    male         0\n",
              "1       1  71.2833  38.0  female         1\n",
              "2       3   7.9250  26.0  female         1\n",
              "3       1  53.1000  35.0  female         1\n",
              "4       3   8.0500  35.0    male         0"
            ],
            "text/html": [
              "\n",
              "  <div id=\"df-6f90afa2-a6b4-4eb6-a4b4-137084ee4831\">\n",
              "    <div class=\"colab-df-container\">\n",
              "      <div>\n",
              "<style scoped>\n",
              "    .dataframe tbody tr th:only-of-type {\n",
              "        vertical-align: middle;\n",
              "    }\n",
              "\n",
              "    .dataframe tbody tr th {\n",
              "        vertical-align: top;\n",
              "    }\n",
              "\n",
              "    .dataframe thead th {\n",
              "        text-align: right;\n",
              "    }\n",
              "</style>\n",
              "<table border=\"1\" class=\"dataframe\">\n",
              "  <thead>\n",
              "    <tr style=\"text-align: right;\">\n",
              "      <th></th>\n",
              "      <th>Pclass</th>\n",
              "      <th>Fare</th>\n",
              "      <th>Age</th>\n",
              "      <th>Sex</th>\n",
              "      <th>Survived</th>\n",
              "    </tr>\n",
              "  </thead>\n",
              "  <tbody>\n",
              "    <tr>\n",
              "      <th>0</th>\n",
              "      <td>3</td>\n",
              "      <td>7.2500</td>\n",
              "      <td>22.0</td>\n",
              "      <td>male</td>\n",
              "      <td>0</td>\n",
              "    </tr>\n",
              "    <tr>\n",
              "      <th>1</th>\n",
              "      <td>1</td>\n",
              "      <td>71.2833</td>\n",
              "      <td>38.0</td>\n",
              "      <td>female</td>\n",
              "      <td>1</td>\n",
              "    </tr>\n",
              "    <tr>\n",
              "      <th>2</th>\n",
              "      <td>3</td>\n",
              "      <td>7.9250</td>\n",
              "      <td>26.0</td>\n",
              "      <td>female</td>\n",
              "      <td>1</td>\n",
              "    </tr>\n",
              "    <tr>\n",
              "      <th>3</th>\n",
              "      <td>1</td>\n",
              "      <td>53.1000</td>\n",
              "      <td>35.0</td>\n",
              "      <td>female</td>\n",
              "      <td>1</td>\n",
              "    </tr>\n",
              "    <tr>\n",
              "      <th>4</th>\n",
              "      <td>3</td>\n",
              "      <td>8.0500</td>\n",
              "      <td>35.0</td>\n",
              "      <td>male</td>\n",
              "      <td>0</td>\n",
              "    </tr>\n",
              "  </tbody>\n",
              "</table>\n",
              "</div>\n",
              "      <button class=\"colab-df-convert\" onclick=\"convertToInteractive('df-6f90afa2-a6b4-4eb6-a4b4-137084ee4831')\"\n",
              "              title=\"Convert this dataframe to an interactive table.\"\n",
              "              style=\"display:none;\">\n",
              "        \n",
              "  <svg xmlns=\"http://www.w3.org/2000/svg\" height=\"24px\"viewBox=\"0 0 24 24\"\n",
              "       width=\"24px\">\n",
              "    <path d=\"M0 0h24v24H0V0z\" fill=\"none\"/>\n",
              "    <path d=\"M18.56 5.44l.94 2.06.94-2.06 2.06-.94-2.06-.94-.94-2.06-.94 2.06-2.06.94zm-11 1L8.5 8.5l.94-2.06 2.06-.94-2.06-.94L8.5 2.5l-.94 2.06-2.06.94zm10 10l.94 2.06.94-2.06 2.06-.94-2.06-.94-.94-2.06-.94 2.06-2.06.94z\"/><path d=\"M17.41 7.96l-1.37-1.37c-.4-.4-.92-.59-1.43-.59-.52 0-1.04.2-1.43.59L10.3 9.45l-7.72 7.72c-.78.78-.78 2.05 0 2.83L4 21.41c.39.39.9.59 1.41.59.51 0 1.02-.2 1.41-.59l7.78-7.78 2.81-2.81c.8-.78.8-2.07 0-2.86zM5.41 20L4 18.59l7.72-7.72 1.47 1.35L5.41 20z\"/>\n",
              "  </svg>\n",
              "      </button>\n",
              "      \n",
              "  <style>\n",
              "    .colab-df-container {\n",
              "      display:flex;\n",
              "      flex-wrap:wrap;\n",
              "      gap: 12px;\n",
              "    }\n",
              "\n",
              "    .colab-df-convert {\n",
              "      background-color: #E8F0FE;\n",
              "      border: none;\n",
              "      border-radius: 50%;\n",
              "      cursor: pointer;\n",
              "      display: none;\n",
              "      fill: #1967D2;\n",
              "      height: 32px;\n",
              "      padding: 0 0 0 0;\n",
              "      width: 32px;\n",
              "    }\n",
              "\n",
              "    .colab-df-convert:hover {\n",
              "      background-color: #E2EBFA;\n",
              "      box-shadow: 0px 1px 2px rgba(60, 64, 67, 0.3), 0px 1px 3px 1px rgba(60, 64, 67, 0.15);\n",
              "      fill: #174EA6;\n",
              "    }\n",
              "\n",
              "    [theme=dark] .colab-df-convert {\n",
              "      background-color: #3B4455;\n",
              "      fill: #D2E3FC;\n",
              "    }\n",
              "\n",
              "    [theme=dark] .colab-df-convert:hover {\n",
              "      background-color: #434B5C;\n",
              "      box-shadow: 0px 1px 3px 1px rgba(0, 0, 0, 0.15);\n",
              "      filter: drop-shadow(0px 1px 2px rgba(0, 0, 0, 0.3));\n",
              "      fill: #FFFFFF;\n",
              "    }\n",
              "  </style>\n",
              "\n",
              "      <script>\n",
              "        const buttonEl =\n",
              "          document.querySelector('#df-6f90afa2-a6b4-4eb6-a4b4-137084ee4831 button.colab-df-convert');\n",
              "        buttonEl.style.display =\n",
              "          google.colab.kernel.accessAllowed ? 'block' : 'none';\n",
              "\n",
              "        async function convertToInteractive(key) {\n",
              "          const element = document.querySelector('#df-6f90afa2-a6b4-4eb6-a4b4-137084ee4831');\n",
              "          const dataTable =\n",
              "            await google.colab.kernel.invokeFunction('convertToInteractive',\n",
              "                                                     [key], {});\n",
              "          if (!dataTable) return;\n",
              "\n",
              "          const docLinkHtml = 'Like what you see? Visit the ' +\n",
              "            '<a target=\"_blank\" href=https://colab.research.google.com/notebooks/data_table.ipynb>data table notebook</a>'\n",
              "            + ' to learn more about interactive tables.';\n",
              "          element.innerHTML = '';\n",
              "          dataTable['output_type'] = 'display_data';\n",
              "          await google.colab.output.renderOutput(dataTable, element);\n",
              "          const docLink = document.createElement('div');\n",
              "          docLink.innerHTML = docLinkHtml;\n",
              "          element.appendChild(docLink);\n",
              "        }\n",
              "      </script>\n",
              "    </div>\n",
              "  </div>\n",
              "  "
            ]
          },
          "metadata": {},
          "execution_count": 32
        }
      ]
    },
    {
      "cell_type": "markdown",
      "metadata": {
        "id": "H1yyU2iLFWFa"
      },
      "source": [
        "Consider applying label encoding to `Sex` feature."
      ]
    },
    {
      "cell_type": "code",
      "metadata": {
        "id": "afagpbV3Eg_L",
        "outputId": "5ddfb783-699c-49d8-9d98-7b65b87bdcef",
        "colab": {
          "base_uri": "https://localhost:8080/",
          "height": 206
        }
      },
      "source": [
        "df['Sex'] = df['Sex'].map( {'female': 1, 'male': 0} ).astype(int)\n",
        "df[['Pclass','Fare','Age','Sex','Survived']].head()"
      ],
      "execution_count": 33,
      "outputs": [
        {
          "output_type": "execute_result",
          "data": {
            "text/plain": [
              "   Pclass     Fare   Age  Sex  Survived\n",
              "0       3   7.2500  22.0    0         0\n",
              "1       1  71.2833  38.0    1         1\n",
              "2       3   7.9250  26.0    1         1\n",
              "3       1  53.1000  35.0    1         1\n",
              "4       3   8.0500  35.0    0         0"
            ],
            "text/html": [
              "\n",
              "  <div id=\"df-436b1982-6ecf-4791-8c7e-9d1d4b4ca3d6\">\n",
              "    <div class=\"colab-df-container\">\n",
              "      <div>\n",
              "<style scoped>\n",
              "    .dataframe tbody tr th:only-of-type {\n",
              "        vertical-align: middle;\n",
              "    }\n",
              "\n",
              "    .dataframe tbody tr th {\n",
              "        vertical-align: top;\n",
              "    }\n",
              "\n",
              "    .dataframe thead th {\n",
              "        text-align: right;\n",
              "    }\n",
              "</style>\n",
              "<table border=\"1\" class=\"dataframe\">\n",
              "  <thead>\n",
              "    <tr style=\"text-align: right;\">\n",
              "      <th></th>\n",
              "      <th>Pclass</th>\n",
              "      <th>Fare</th>\n",
              "      <th>Age</th>\n",
              "      <th>Sex</th>\n",
              "      <th>Survived</th>\n",
              "    </tr>\n",
              "  </thead>\n",
              "  <tbody>\n",
              "    <tr>\n",
              "      <th>0</th>\n",
              "      <td>3</td>\n",
              "      <td>7.2500</td>\n",
              "      <td>22.0</td>\n",
              "      <td>0</td>\n",
              "      <td>0</td>\n",
              "    </tr>\n",
              "    <tr>\n",
              "      <th>1</th>\n",
              "      <td>1</td>\n",
              "      <td>71.2833</td>\n",
              "      <td>38.0</td>\n",
              "      <td>1</td>\n",
              "      <td>1</td>\n",
              "    </tr>\n",
              "    <tr>\n",
              "      <th>2</th>\n",
              "      <td>3</td>\n",
              "      <td>7.9250</td>\n",
              "      <td>26.0</td>\n",
              "      <td>1</td>\n",
              "      <td>1</td>\n",
              "    </tr>\n",
              "    <tr>\n",
              "      <th>3</th>\n",
              "      <td>1</td>\n",
              "      <td>53.1000</td>\n",
              "      <td>35.0</td>\n",
              "      <td>1</td>\n",
              "      <td>1</td>\n",
              "    </tr>\n",
              "    <tr>\n",
              "      <th>4</th>\n",
              "      <td>3</td>\n",
              "      <td>8.0500</td>\n",
              "      <td>35.0</td>\n",
              "      <td>0</td>\n",
              "      <td>0</td>\n",
              "    </tr>\n",
              "  </tbody>\n",
              "</table>\n",
              "</div>\n",
              "      <button class=\"colab-df-convert\" onclick=\"convertToInteractive('df-436b1982-6ecf-4791-8c7e-9d1d4b4ca3d6')\"\n",
              "              title=\"Convert this dataframe to an interactive table.\"\n",
              "              style=\"display:none;\">\n",
              "        \n",
              "  <svg xmlns=\"http://www.w3.org/2000/svg\" height=\"24px\"viewBox=\"0 0 24 24\"\n",
              "       width=\"24px\">\n",
              "    <path d=\"M0 0h24v24H0V0z\" fill=\"none\"/>\n",
              "    <path d=\"M18.56 5.44l.94 2.06.94-2.06 2.06-.94-2.06-.94-.94-2.06-.94 2.06-2.06.94zm-11 1L8.5 8.5l.94-2.06 2.06-.94-2.06-.94L8.5 2.5l-.94 2.06-2.06.94zm10 10l.94 2.06.94-2.06 2.06-.94-2.06-.94-.94-2.06-.94 2.06-2.06.94z\"/><path d=\"M17.41 7.96l-1.37-1.37c-.4-.4-.92-.59-1.43-.59-.52 0-1.04.2-1.43.59L10.3 9.45l-7.72 7.72c-.78.78-.78 2.05 0 2.83L4 21.41c.39.39.9.59 1.41.59.51 0 1.02-.2 1.41-.59l7.78-7.78 2.81-2.81c.8-.78.8-2.07 0-2.86zM5.41 20L4 18.59l7.72-7.72 1.47 1.35L5.41 20z\"/>\n",
              "  </svg>\n",
              "      </button>\n",
              "      \n",
              "  <style>\n",
              "    .colab-df-container {\n",
              "      display:flex;\n",
              "      flex-wrap:wrap;\n",
              "      gap: 12px;\n",
              "    }\n",
              "\n",
              "    .colab-df-convert {\n",
              "      background-color: #E8F0FE;\n",
              "      border: none;\n",
              "      border-radius: 50%;\n",
              "      cursor: pointer;\n",
              "      display: none;\n",
              "      fill: #1967D2;\n",
              "      height: 32px;\n",
              "      padding: 0 0 0 0;\n",
              "      width: 32px;\n",
              "    }\n",
              "\n",
              "    .colab-df-convert:hover {\n",
              "      background-color: #E2EBFA;\n",
              "      box-shadow: 0px 1px 2px rgba(60, 64, 67, 0.3), 0px 1px 3px 1px rgba(60, 64, 67, 0.15);\n",
              "      fill: #174EA6;\n",
              "    }\n",
              "\n",
              "    [theme=dark] .colab-df-convert {\n",
              "      background-color: #3B4455;\n",
              "      fill: #D2E3FC;\n",
              "    }\n",
              "\n",
              "    [theme=dark] .colab-df-convert:hover {\n",
              "      background-color: #434B5C;\n",
              "      box-shadow: 0px 1px 3px 1px rgba(0, 0, 0, 0.15);\n",
              "      filter: drop-shadow(0px 1px 2px rgba(0, 0, 0, 0.3));\n",
              "      fill: #FFFFFF;\n",
              "    }\n",
              "  </style>\n",
              "\n",
              "      <script>\n",
              "        const buttonEl =\n",
              "          document.querySelector('#df-436b1982-6ecf-4791-8c7e-9d1d4b4ca3d6 button.colab-df-convert');\n",
              "        buttonEl.style.display =\n",
              "          google.colab.kernel.accessAllowed ? 'block' : 'none';\n",
              "\n",
              "        async function convertToInteractive(key) {\n",
              "          const element = document.querySelector('#df-436b1982-6ecf-4791-8c7e-9d1d4b4ca3d6');\n",
              "          const dataTable =\n",
              "            await google.colab.kernel.invokeFunction('convertToInteractive',\n",
              "                                                     [key], {});\n",
              "          if (!dataTable) return;\n",
              "\n",
              "          const docLinkHtml = 'Like what you see? Visit the ' +\n",
              "            '<a target=\"_blank\" href=https://colab.research.google.com/notebooks/data_table.ipynb>data table notebook</a>'\n",
              "            + ' to learn more about interactive tables.';\n",
              "          element.innerHTML = '';\n",
              "          dataTable['output_type'] = 'display_data';\n",
              "          await google.colab.output.renderOutput(dataTable, element);\n",
              "          const docLink = document.createElement('div');\n",
              "          docLink.innerHTML = docLinkHtml;\n",
              "          element.appendChild(docLink);\n",
              "        }\n",
              "      </script>\n",
              "    </div>\n",
              "  </div>\n",
              "  "
            ]
          },
          "metadata": {},
          "execution_count": 33
        }
      ]
    },
    {
      "cell_type": "markdown",
      "metadata": {
        "id": "iqksclPpFhgT"
      },
      "source": [
        "Consider training a logistic regression model using the function in Q2."
      ]
    },
    {
      "cell_type": "code",
      "metadata": {
        "id": "QhOB9R24FOmz",
        "colab": {
          "base_uri": "https://localhost:8080/",
          "height": 438
        },
        "outputId": "4e223c4d-3331-4acd-fc66-94947b1c5a43"
      },
      "source": [
        "X = df[['Pclass','Fare','Age','Sex']].values\n",
        "y = df[['Survived']].values\n",
        "\n",
        "X_norm=(X-np.mean(X, axis=0))/np.std(X, axis=0) # 標準化\n",
        "X_norm=np.insert(X_norm, 0, np.ones((1,X.shape[0]), dtype=int), axis=1) # バイアス項の追加\n",
        "\n",
        "a=0.1 # 学習率\n",
        "n=500 # 繰り返し回数\n",
        "costs, w = graddes_logit(X_norm, y, a, n)\n",
        "\n",
        "print(costs[-1]) # 最終的なコストの値\n",
        "print(w) # パラメータ\n",
        "\n",
        "# 繰り返しとコスト関数のプロット\n",
        "plt.figure(figsize=(7,5))\n",
        "plt.plot(range(1,n+1),costs) \n",
        "plt.ylabel('Cost')\n",
        "plt.xlabel('Iteration');"
      ],
      "execution_count": 34,
      "outputs": [
        {
          "output_type": "stream",
          "name": "stdout",
          "text": [
            "[0.45198722]\n",
            "[[-0.63051179]\n",
            " [-0.96699346]\n",
            " [ 0.04773453]\n",
            " [-0.45298281]\n",
            " [ 1.22247224]]\n"
          ]
        },
        {
          "output_type": "display_data",
          "data": {
            "text/plain": [
              "<Figure size 504x360 with 1 Axes>"
            ],
            "image/png": "[encoded data removed]"
          },
          "metadata": {
            "needs_background": "light"
          }
        }
      ]
    },
    {
      "cell_type": "markdown",
      "metadata": {
        "id": "0SIqUfC4Fx9x"
      },
      "source": [
        "Complete the following `evaluation` function that takes an array `y` (a column vector) containing the actual label values and an array `y_pred` (similar shape to `y`) containing the predicted label values as its first and second arguments, respectively, and returns (accuracy, precision, recall, f value) regarding class label `1`.\n"
      ]
    },
    {
      "cell_type": "code",
      "metadata": {
        "id": "19_CxqQSDzuS",
        "exercise_id": "q3",
        "inlinetests": {
          "InlineTest_3": "\nassert 'evaluation' in globals(), f\"Have you defined the function 'evaluation'?\"\nassert str(evaluation.__class__) == \"<class 'function'>\", f\"Have you defined a function 'evaluation'? Found a {evaluation.__class__} instead\"\ntry:\n    df = pd.read_csv('titanic.csv')\n    df['Sex'] = df['Sex'].map( {'female': 1, 'male': 0} ).astype(int)\n    X = df[['Pclass','Fare','Age','Sex']].values\n    y = df[['Survived']].values\n    X = np.hstack([np.ones((X.shape[0],1)), (X-np.mean(X, axis=0))/np.std(X, axis=0)])\n    costs, w = graddes_logit(X, y, 0.1, 500)\n    y_pred = (1.0/(1.0+np.exp(-np.dot(X,w)))>=0.5).astype(int)  \n    assert np.round(evaluation(y,y_pred),2)[0] == 0.80, f\"Your function 'sigmoid' returns {evaluation(y,y_pred)}, while the expected answer is (0.80..., 0.75..., 0.71..., 0.73...)\"\n    assert np.round(evaluation(y,y_pred),2)[1] == 0.76, f\"Your function 'sigmoid' returns {evaluation(y,y_pred)}, while the expected answer is (0.80..., 0.75..., 0.71..., 0.73...)\"\n    assert np.round(evaluation(y,y_pred),2)[2] == 0.72, f\"Your function 'sigmoid' returns {evaluation(y,y_pred)}, while the expected answer is (0.80..., 0.75..., 0.71..., 0.73...)\"\n    assert np.round(evaluation(y,y_pred),2)[3] == 0.74, f\"Your function 'sigmoid' returns {evaluation(y,y_pred)}, while the expected answer is (0.80..., 0.75..., 0.71..., 0.73...)\"\nexcept AssertionError as e:\n    raise e\nexcept Exception as e:\n    assert False, f\"Your function 'evaluation' does not accept 'y, y_pred' and raises an exception: {e}. Please try to pass 'y, y_pred' to your function.\""
        }
      },
      "source": [
        "def evaluation(y, y_pred):\n",
        "    TP = 0\n",
        "    FN = 0\n",
        "    FP = 0\n",
        "    TN = 0\n",
        "    for i in range(len(y)):\n",
        "      if y[i] == 1 and y_pred[i] == 1:\n",
        "        TP +=1\n",
        "      elif y[i] == 1 and y_pred[i] == 0:\n",
        "        FN +=1\n",
        "      elif y[i] == 0 and y_pred[i] == 1:\n",
        "        FP +=1\n",
        "      elif y[i] == 0 and y_pred[i] == 0:\n",
        "        TN +=1\n",
        "    accuracy = (TP+TN)/(TP+TN+FP+FN)\n",
        "    precision = TP/(TP+FP)\n",
        "    recall = TP/(TP+FN)\n",
        "    f1 = 2*precision*recall/(precision+recall)\n",
        "    return accuracy, precision, recall, f1"
      ],
      "execution_count": 37,
      "outputs": []
    },
    {
      "cell_type": "markdown",
      "metadata": {
        "id": "s4ETU0ItHLKA"
      },
      "source": [
        "Once the `evaluation` function is complete, run the following cell.\n",
        "\n",
        "Your function should return `(0.80... 0.75... 0.71... 0.73...)`."
      ]
    },
    {
      "cell_type": "code",
      "metadata": {
        "id": "T1N1ZRPYFRI_",
        "colab": {
          "base_uri": "https://localhost:8080/"
        },
        "outputId": "b47b790d-6fff-42e6-d0df-37bd8b3cf06e"
      },
      "source": [
        "output = sigmoid(np.dot(X_norm, w))\n",
        "y_pred = (output>=0.5).astype(int) \n",
        "evaluation(y, y_pred)"
      ],
      "execution_count": 38,
      "outputs": [
        {
          "output_type": "execute_result",
          "data": {
            "text/plain": [
              "(0.8027057497181511, 0.7585139318885449, 0.716374269005848, 0.736842105263158)"
            ]
          },
          "metadata": {},
          "execution_count": 38
        }
      ]
    },
    {
      "cell_type": "markdown",
      "metadata": {
        "id": "lnsffE6pHla1"
      },
      "source": [
        "The following scikit-learn functions also give above evaluation metrics."
      ]
    },
    {
      "cell_type": "code",
      "metadata": {
        "id": "EBhFlECj__D_",
        "colab": {
          "base_uri": "https://localhost:8080/"
        },
        "outputId": "a6079e68-2fdc-4e9a-f96a-20181d58ebfa"
      },
      "source": [
        "from sklearn.metrics import accuracy_score, confusion_matrix,  precision_score, recall_score, f1_score\n",
        "\n",
        "print(confusion_matrix(y, y_pred)) # 混同行列\n",
        "print(accuracy_score(y, y_pred)) # accuracy\n",
        "print(precision_score(y, y_pred)) # precision\n",
        "print(recall_score(y, y_pred)) # recall\n",
        "print(f1_score(y, y_pred))  # f値"
      ],
      "execution_count": 39,
      "outputs": [
        {
          "output_type": "stream",
          "name": "stdout",
          "text": [
            "[[467  78]\n",
            " [ 97 245]]\n",
            "0.8027057497181511\n",
            "0.7585139318885449\n",
            "0.716374269005848\n",
            "0.736842105263158\n"
          ]
        }
      ]
    },
    {
      "cell_type": "markdown",
      "metadata": {
        "id": "5fi3cCOc7vut"
      },
      "source": [
        "## Code Testing\n"
      ]
    },
    {
      "cell_type": "code",
      "metadata": {
        "id": "UZYlzknb7uLP",
        "colab": {
          "base_uri": "https://localhost:8080/"
        },
        "outputId": "a967feb1-0b0e-4535-9b5d-74098b16cb8f"
      },
      "source": [
        "## Run this cell first\n",
        "!pip install prog_edu_assistant_tools\n",
        "import re\n",
        "import sys\n",
        "import jinja2\n",
        "from IPython.core import display\n",
        "from google.colab import _message as google_message\n",
        "from prog_edu_assistant_tools.magics import report, autotest, CaptureOutput\n",
        "from prog_edu_assistant_tools.check import Check"
      ],
      "execution_count": 28,
      "outputs": [
        {
          "output_type": "stream",
          "name": "stdout",
          "text": [
            "Looking in indexes: https://pypi.org/simple, https://us-python.pkg.dev/colab-wheels/public/simple/\n",
            "Collecting prog_edu_assistant_tools\n",
            "  Downloading prog_edu_assistant_tools-0.3.1-py3-none-any.whl (16 kB)\n",
            "Requirement already satisfied: Jinja2 in /usr/local/lib/python3.8/dist-packages (from prog_edu_assistant_tools) (2.11.3)\n",
            "Requirement already satisfied: IPython in /usr/local/lib/python3.8/dist-packages (from prog_edu_assistant_tools) (7.9.0)\n",
            "Requirement already satisfied: pickleshare in /usr/local/lib/python3.8/dist-packages (from IPython->prog_edu_assistant_tools) (0.7.5)\n",
            "Requirement already satisfied: backcall in /usr/local/lib/python3.8/dist-packages (from IPython->prog_edu_assistant_tools) (0.2.0)\n",
            "Collecting jedi>=0.10\n",
            "  Downloading jedi-0.18.2-py2.py3-none-any.whl (1.6 MB)\n",
            "\u001b[K     |████████████████████████████████| 1.6 MB 7.4 MB/s \n",
            "\u001b[?25hRequirement already satisfied: traitlets>=4.2 in /usr/local/lib/python3.8/dist-packages (from IPython->prog_edu_assistant_tools) (5.6.0)\n",
            "Requirement already satisfied: decorator in /usr/local/lib/python3.8/dist-packages (from IPython->prog_edu_assistant_tools) (4.4.2)\n",
            "Requirement already satisfied: pexpect in /usr/local/lib/python3.8/dist-packages (from IPython->prog_edu_assistant_tools) (4.8.0)\n",
            "Requirement already satisfied: pygments in /usr/local/lib/python3.8/dist-packages (from IPython->prog_edu_assistant_tools) (2.6.1)\n",
            "Requirement already satisfied: prompt-toolkit<2.1.0,>=2.0.0 in /usr/local/lib/python3.8/dist-packages (from IPython->prog_edu_assistant_tools) (2.0.10)\n",
            "Requirement already satisfied: setuptools>=18.5 in /usr/local/lib/python3.8/dist-packages (from IPython->prog_edu_assistant_tools) (57.4.0)\n",
            "Requirement already satisfied: parso<0.9.0,>=0.8.0 in /usr/local/lib/python3.8/dist-packages (from jedi>=0.10->IPython->prog_edu_assistant_tools) (0.8.3)\n",
            "Requirement already satisfied: wcwidth in /usr/local/lib/python3.8/dist-packages (from prompt-toolkit<2.1.0,>=2.0.0->IPython->prog_edu_assistant_tools) (0.2.5)\n",
            "Requirement already satisfied: six>=1.9.0 in /usr/local/lib/python3.8/dist-packages (from prompt-toolkit<2.1.0,>=2.0.0->IPython->prog_edu_assistant_tools) (1.15.0)\n",
            "Requirement already satisfied: MarkupSafe>=0.23 in /usr/local/lib/python3.8/dist-packages (from Jinja2->prog_edu_assistant_tools) (2.0.1)\n",
            "Requirement already satisfied: ptyprocess>=0.5 in /usr/local/lib/python3.8/dist-packages (from pexpect->IPython->prog_edu_assistant_tools) (0.7.0)\n",
            "Installing collected packages: jedi, prog-edu-assistant-tools\n",
            "Successfully installed jedi-0.18.2 prog-edu-assistant-tools-0.3.1\n"
          ]
        }
      ]
    },
    {
      "cell_type": "markdown",
      "metadata": {
        "id": "ZC7vzQl4759e"
      },
      "source": [
        "## Q1"
      ]
    },
    {
      "cell_type": "code",
      "metadata": {
        "id": "YTSEQYzw748m",
        "colab": {
          "base_uri": "https://localhost:8080/",
          "height": 178
        },
        "outputId": "1a8372c1-613e-45c4-c4ab-98a48d21d297"
      },
      "source": [
        "# Run this cell to check your solution.\n",
        "# If you get an error 'Check not defined', make sure you have run all preceding\n",
        "# cells once (Runtime -> Run before)\n",
        "Check('q1')"
      ],
      "execution_count": 29,
      "outputs": [
        {
          "output_type": "execute_result",
          "data": {
            "text/plain": [
              "<IPython.core.display.HTML object>"
            ],
            "text/html": [
              "\n",
              "  <h4 style='color: #387;'>Your submission</h4>\n",
              "  <pre style='background: #F0F0F0; padding: 3pt; margin: 4pt; border: 1pt solid #DDD; border-radius: 3pt;'>def sigmoid(Z):\n",
              "    Z = Z.astype(float) # float型にしておく\n",
              "    return 1/(1+np.exp(-Z))</pre>\n",
              "  <h4 style='color: #387;'>Results</h4>\n",
              "  \n",
              "  &#x2705;\n",
              "  Looks OK.\n",
              "  "
            ]
          },
          "metadata": {},
          "execution_count": 29
        }
      ]
    },
    {
      "cell_type": "markdown",
      "metadata": {
        "id": "xlzUEX9r7-MK"
      },
      "source": [
        "## Q2"
      ]
    },
    {
      "cell_type": "code",
      "metadata": {
        "id": "WJGRw8u-7_FF",
        "colab": {
          "base_uri": "https://localhost:8080/",
          "height": 526
        },
        "outputId": "108862f2-e0eb-4ce8-a489-16b48dffbaf5"
      },
      "source": [
        "# Run this cell to check your solution.\n",
        "# If you get an error 'Check not defined', make sure you have run all preceding\n",
        "# cells once (Runtime -> Run before)\n",
        "Check('q2')"
      ],
      "execution_count": 30,
      "outputs": [
        {
          "output_type": "execute_result",
          "data": {
            "text/plain": [
              "<IPython.core.display.HTML object>"
            ],
            "text/html": [
              "\n",
              "  <h4 style='color: #387;'>Your submission</h4>\n",
              "  <pre style='background: #F0F0F0; padding: 3pt; margin: 4pt; border: 1pt solid #DDD; border-radius: 3pt;'>def graddes_logit(X, y, alpha, n_iter):  \n",
              "    m = X.shape[0] # データ数\n",
              "    n =  X.shape[1] # 次元（特徴量+バイアス）数\n",
              "    \n",
              "    costs=[] # エポックごとのコスト関数の値を入れるリスト\n",
              "    w = np.zeros((n,1)) #  バイアスと各特徴量に対するパラメータ（重み）の初期化\n",
              "    \n",
              "    for i in range(n_iter):\n",
              "      cost = 0\n",
              "      errors = []\n",
              "      for j in range(m):\n",
              "        h = sigmoid(np.dot(np.transpose(w),X[j]))\n",
              "        error = h - y[j]\n",
              "        errors.append(error)\n",
              "        cost += y[j]*np.log(h)+(1-y[j])*np.log(1-h)\n",
              "      costs.append(-cost/m)\n",
              "\n",
              "      for j in range(n):\n",
              "        for k in range(m):\n",
              "          \n",
              "          w[j][0] -= (alpha * errors[k] * X[k][j])/m\n",
              "        \n",
              "    return costs, w</pre>\n",
              "  <h4 style='color: #387;'>Results</h4>\n",
              "  \n",
              "  &#x2705;\n",
              "  Looks OK.\n",
              "  "
            ]
          },
          "metadata": {},
          "execution_count": 30
        }
      ]
    },
    {
      "cell_type": "markdown",
      "metadata": {
        "id": "bmvOPRwD8BIR"
      },
      "source": [
        "## Q3"
      ]
    },
    {
      "cell_type": "code",
      "metadata": {
        "id": "7hiA5AZT8CsW",
        "colab": {
          "base_uri": "https://localhost:8080/",
          "height": 456
        },
        "outputId": "e6b78370-880a-428d-d87e-42f43eec7894"
      },
      "source": [
        "# Run this cell to check your solution.\n",
        "# If you get an error 'Check not defined', make sure you have run all preceding\n",
        "# cells once (Runtime -> Run before)\n",
        "Check('q3')"
      ],
      "execution_count": 40,
      "outputs": [
        {
          "output_type": "execute_result",
          "data": {
            "text/plain": [
              "<IPython.core.display.HTML object>"
            ],
            "text/html": [
              "\n",
              "  <h4 style='color: #387;'>Your submission</h4>\n",
              "  <pre style='background: #F0F0F0; padding: 3pt; margin: 4pt; border: 1pt solid #DDD; border-radius: 3pt;'>def evaluation(y, y_pred):\n",
              "    TP = 0\n",
              "    FN = 0\n",
              "    FP = 0\n",
              "    TN = 0\n",
              "    for i in range(len(y)):\n",
              "      if y[i] == 1 and y_pred[i] == 1:\n",
              "        TP +=1\n",
              "      elif y[i] == 1 and y_pred[i] == 0:\n",
              "        FN +=1\n",
              "      elif y[i] == 0 and y_pred[i] == 1:\n",
              "        FP +=1\n",
              "      elif y[i] == 0 and y_pred[i] == 0:\n",
              "        TN +=1\n",
              "    accuracy = (TP+TN)/(TP+TN+FP+FN)\n",
              "    precision = TP/(TP+FP)\n",
              "    recall = TP/(TP+FN)\n",
              "    f1 = 2*precision*recall/(precision+recall)\n",
              "    return accuracy, precision, recall, f1</pre>\n",
              "  <h4 style='color: #387;'>Results</h4>\n",
              "  \n",
              "  &#x2705;\n",
              "  Looks OK.\n",
              "  "
            ]
          },
          "metadata": {},
          "execution_count": 40
        }
      ]
    }
  ]
}