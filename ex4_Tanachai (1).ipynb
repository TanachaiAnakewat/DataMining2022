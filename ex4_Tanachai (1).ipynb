{
  "nbformat": 4,
  "nbformat_minor": 0,
  "metadata": {
    "colab": {
      "provenance": [],
      "collapsed_sections": []
    },
    "kernelspec": {
      "name": "python3",
      "display_name": "Python 3"
    },
    "language_info": {
      "name": "python"
    }
  },
  "cells": [
    {
      "cell_type": "markdown",
      "metadata": {
        "id": "OML25K1Bv3L2"
      },
      "source": [
        "# EX4 Text Analysis\n",
        "\n",
        "Points\n",
        "- Q1, 1P\n",
        "- Q2, 2P\n",
        "- Q3, 4P\n",
        "- Q4, 3P"
      ]
    },
    {
      "cell_type": "code",
      "metadata": {
        "id": "I_2I7_5hv7JW"
      },
      "source": [
        "# 必要なモジュールのimport\n",
        "import numpy as np\n",
        "import pandas as pd"
      ],
      "execution_count": null,
      "outputs": []
    },
    {
      "cell_type": "markdown",
      "metadata": {
        "id": "DpAaCPlLwEsU"
      },
      "source": [
        "## Q1\n",
        "Given any two vectors in an $n$-dimensional vector space, $ \\vec{x}=(x_1,x_2,... ,x_n)$, $\\vec{y}=(y_1,y_2,... ,y_n)$, the cos similarity, $cos( \\vec{x}, \\vec{y})$, between these vectors is defined as follows:\n",
        "\n",
        "$cos( \\vec{x}, \\vec{y}) =  \\frac{\\vec{x}\\cdot \\vec{y}}{\\|x\\|_2\\|y\\|_2}=\\frac{\\Sigma^{n}_{i=1}{x_{i}y_{i}}}{\\sqrt{\\Sigma^{n}_{i=1}x_{i}^{2}}\\sqrt{\\Sigma^{n}_{i=1}y_{i}^{2}}}$.\n",
        "\n",
        "Complete the `cos_sim` function that takes the input vectors $\\vec{x}$ and $\\vec{y}$ as `NumPy` arrays and returns the cos similarity between these vectors."
      ]
    },
    {
      "cell_type": "code",
      "metadata": {
        "id": "q5g57zSEwM7M",
        "exercise_id": "q1",
        "inlinetests": {
          "InlineTest_1": "\ntry:\n  import numpy as np\n  assert 0.82 == round(cos_sim(np.array([1,0,1]), np.array([1,1,1])), 2), f\"'cos_sim(np.array([1,0,1]), np.array([1,1,1]))' returns {cos_sim(np.array([1,0,1]), np.array([1,1,1]))}, while the expected answer is {0.816}...\"\n  assert 1 == round(cos_sim(np.array([1,1,1]), np.array([1,1,1])), 2), f\"'cos_sim(np.array([1,1,1]), np.array([1,1,1]))' returns {cos_sim(np.array([1,1,1]), np.array([1,1,1]))}, while the expected answer is {1.0}\"\n  assert -1 == round(cos_sim(np.array([-1,-1,-1]), np.array([1,1,1])), 2), f\"'cos_sim(np.array([-1,-1,-1]), np.array([1,1,1]))' returns {cos_sim(np.array([-1,-1,-1]), np.array([1,1,1]))}, while the expected answer is {-1.0}\"\nexcept AssertionError as e:\n    raise e\nexcept Exception as e:\n    assert False, f\"Your function raises an exception: {e}.\""
        }
      },
      "source": [
        "def cos_sim(vec1, vec2):\n",
        "  return np.dot(vec1,vec2)/(np.linalg.norm(vec1)*np.linalg.norm(vec2))"
      ],
      "execution_count": null,
      "outputs": []
    },
    {
      "cell_type": "markdown",
      "metadata": {
        "id": "oGhCfrk9www9"
      },
      "source": [
        "Once the `cos_sim()` function is complete, run the following cell to see how it works."
      ]
    },
    {
      "cell_type": "code",
      "metadata": {
        "id": "6PBnF_Viwzak",
        "colab": {
          "base_uri": "https://localhost:8080/"
        },
        "outputId": "2628661d-bee1-430a-fdaa-fa317b159679"
      },
      "source": [
        "print(round(cos_sim(np.array([1,0,1]), np.array([1,1,1])), 2))\n",
        "print(round(cos_sim(np.array([1,1,1]), np.array([1,1,1])), 2))\n",
        "print(round(cos_sim(np.array([-1,-1,-1]), np.array([1,1,1])), 2))"
      ],
      "execution_count": null,
      "outputs": [
        {
          "output_type": "stream",
          "name": "stdout",
          "text": [
            "0.82\n",
            "1.0\n",
            "-1.0\n"
          ]
        }
      ]
    },
    {
      "cell_type": "markdown",
      "metadata": {
        "id": "gHDWhcv-yYxA"
      },
      "source": [
        "Make sure that your function returns `0.82`, `1.0`, `-1.0` respectively."
      ]
    },
    {
      "cell_type": "markdown",
      "metadata": {
        "id": "5_QiLSAP1Jn4"
      },
      "source": [
        "## Q2\n",
        "The following \"course_list.csv\" file contains text data with a lecture title in each line. \n",
        "\n",
        "```Python\n",
        "## course_list.csvファイル\n",
        "...\n",
        "数理科学基礎\n",
        "物性化学\n",
        "政治Ⅰ\n",
        "身体運動・健康科学実習Ⅰ（ﾒﾃﾞｨｶﾙｹｱ1）\n",
        "スペイン語テクスト分析Ⅰ\n",
        "英語二列Ｗ（ALESS）\n",
        "応用倫理学\n",
        "...\n",
        "```\n",
        "\n",
        "In the following, you are going to implement the codes to create a vector representing a lecture and calculate the similarity between the lectures."
      ]
    },
    {
      "cell_type": "code",
      "metadata": {
        "id": "lyBEzDX61Ngb",
        "colab": {
          "base_uri": "https://localhost:8080/"
        },
        "outputId": "74052e55-490c-4cf1-ab55-e857f32f45c3"
      },
      "source": [
        "# Colaboratoryでは以下を実行して必要なファイルをダウンロード\n",
        "!wget https://raw.githubusercontent.com/UTDataMining/2022A/master/ex4/course_list.csv"
      ],
      "execution_count": null,
      "outputs": [
        {
          "output_type": "stream",
          "name": "stdout",
          "text": [
            "--2022-11-05 13:27:09--  https://raw.githubusercontent.com/UTDataMining/2022A/master/ex4/course_list.csv\n",
            "Resolving raw.githubusercontent.com (raw.githubusercontent.com)... 185.199.110.133, 185.199.111.133, 185.199.109.133, ...\n",
            "Connecting to raw.githubusercontent.com (raw.githubusercontent.com)|185.199.110.133|:443... connected.\n",
            "HTTP request sent, awaiting response... 200 OK\n",
            "Length: 27388 (27K) [text/plain]\n",
            "Saving to: ‘course_list.csv’\n",
            "\n",
            "\rcourse_list.csv       0%[                    ]       0  --.-KB/s               \rcourse_list.csv     100%[===================>]  26.75K  --.-KB/s    in 0s      \n",
            "\n",
            "2022-11-05 13:27:09 (86.6 MB/s) - ‘course_list.csv’ saved [27388/27388]\n",
            "\n"
          ]
        }
      ]
    },
    {
      "cell_type": "markdown",
      "metadata": {
        "id": "Qmrm37sH2PWp"
      },
      "source": [
        "### Q2.1\n",
        "Complete the `create_list` function that reads each row in order given the `file` and returns a list with each row as its element. \n",
        "\n",
        "The created list is received in the variable `courses`. \n",
        "\n",
        "**The index of `courses` list is regarded as its corresponding lecture's ID.**"
      ]
    },
    {
      "cell_type": "code",
      "metadata": {
        "id": "IHBBvlOg2Ysq",
        "exercise_id": "q2_1",
        "inlinetests": {
          "InlineTest_2_1": "\ntry:\n  courses = create_list('course_list.csv')\n  assert 552 == len(courses), f\"'len(courses)' returns {len(courses)}, while the expected answer is {552}\"\n  assert 198 == courses.index('計算機プログラミング'), f\"'courses.index('計算機プログラミング')' returns {courses.index('計算機プログラミング')}, while the expected answer is {198}\"\n  vocab = create_list('keyword_list.csv')\n  assert 243 == len(vocab), f\"'len(vocab)' returns {len(vocab)}, while the expected answer is {243}\"\n  assert 145 == vocab.index('プログラミング'), f\"'vocab.index('プログラミング')' returns {vocab.index('プログラミング')}, while the expected answer is {145}\"\nexcept AssertionError as e:\n    raise e\nexcept Exception as e:\n    assert False, f\"Your function raises an exception: {e}.\""
        }
      },
      "source": [
        "def create_list(file):\n",
        "  return pd.read_csv(file, header=None, encoding=\"utf-8\").values.flatten().tolist()"
      ],
      "execution_count": null,
      "outputs": []
    },
    {
      "cell_type": "markdown",
      "metadata": {
        "id": "thBxnu7R3kDI"
      },
      "source": [
        "Once the `create_list` function is complete, run the following cell. Your function should return a list with length `552`.\n",
        "\n",
        "ID (its index of `courses` list) of a lecture \"計算機プログラミング\" should be `198`."
      ]
    },
    {
      "cell_type": "code",
      "metadata": {
        "id": "ly6m0Hd-3oNE",
        "colab": {
          "base_uri": "https://localhost:8080/"
        },
        "outputId": "29df582b-43ae-4ea9-ee36-68e4ba8e0e8a"
      },
      "source": [
        "courses = create_list('course_list.csv')\n",
        "print(len(courses))\n",
        "print(courses.index('計算機プログラミング'))"
      ],
      "execution_count": null,
      "outputs": [
        {
          "output_type": "stream",
          "name": "stdout",
          "text": [
            "552\n",
            "198\n"
          ]
        }
      ]
    },
    {
      "cell_type": "markdown",
      "metadata": {
        "id": "7jucVWG55p-e"
      },
      "source": [
        "The following\"keyword_list.csv\" file contains one word in each line.\n",
        "\n",
        "```Python\n",
        "## keyword_list.csvファイル\n",
        "...\n",
        "外国語\n",
        "日本語\n",
        "力学\n",
        "身体運動\n",
        "微分積分学\n",
        "ロシア語\n",
        "熱力学\n",
        "線型代数学\n",
        "イタリア語\n",
        "物性\n",
        "...\n",
        "```\n",
        "\n",
        "In the following, we read the \"keywor_list.csv\" file and create a list with each line as its element. \n",
        "\n",
        "The created list is received in the variable `vocab`. \n",
        "\n",
        "\n",
        "**The index of `vocab` list is regarded as its corresponding word's ID.**\n"
      ]
    },
    {
      "cell_type": "code",
      "metadata": {
        "id": "sSIO7Yl151wl",
        "colab": {
          "base_uri": "https://localhost:8080/"
        },
        "outputId": "dc83760c-5c1d-4f39-f87b-9ec52cddc418"
      },
      "source": [
        "# Colaboratoryでは以下を実行して必要なファイルをダウンロード\n",
        "!wget https://raw.githubusercontent.com/UTDataMining/2022A/master/ex4/keyword_list.csv"
      ],
      "execution_count": null,
      "outputs": [
        {
          "output_type": "stream",
          "name": "stdout",
          "text": [
            "--2022-11-05 13:27:10--  https://raw.githubusercontent.com/UTDataMining/2022A/master/ex4/keyword_list.csv\n",
            "Resolving raw.githubusercontent.com (raw.githubusercontent.com)... 185.199.108.133, 185.199.109.133, 185.199.110.133, ...\n",
            "Connecting to raw.githubusercontent.com (raw.githubusercontent.com)|185.199.108.133|:443... connected.\n",
            "HTTP request sent, awaiting response... 200 OK\n",
            "Length: 2513 (2.5K) [text/plain]\n",
            "Saving to: ‘keyword_list.csv.1’\n",
            "\n",
            "keyword_list.csv.1  100%[===================>]   2.45K  --.-KB/s    in 0s      \n",
            "\n",
            "2022-11-05 13:27:10 (32.9 MB/s) - ‘keyword_list.csv.1’ saved [2513/2513]\n",
            "\n"
          ]
        }
      ]
    },
    {
      "cell_type": "markdown",
      "metadata": {
        "id": "uZ7efuVs6CWY"
      },
      "source": [
        "Run the following cell. Your function should return a list with length `243`.\n",
        "\n",
        "ID (its index of `vocab`list) of a word \"プログラミング\" should be `145`.\n"
      ]
    },
    {
      "cell_type": "code",
      "metadata": {
        "id": "Ved5dvUm6JMQ",
        "colab": {
          "base_uri": "https://localhost:8080/"
        },
        "outputId": "1b8fef29-c1fd-450a-e38d-f4439d4ffe8e"
      },
      "source": [
        "vocab = create_list('keyword_list.csv')\n",
        "print(len(vocab))\n",
        "print(vocab.index('プログラミング'))\n",
        "print(vocab.index('英語'))"
      ],
      "execution_count": null,
      "outputs": [
        {
          "output_type": "stream",
          "name": "stdout",
          "text": [
            "243\n",
            "145\n",
            "0\n"
          ]
        }
      ]
    },
    {
      "cell_type": "markdown",
      "metadata": {
        "id": "PM73mMPV7TLh"
      },
      "source": [
        "### Q2.2\n",
        "Complete the `count_df` function that takes the `courses` and `vocab` lists and return a dictionary with the word ID (the index of that word in `vocab`) as key and Document Frequency (DF) of that word as value.\n",
        "Note that DF of a word is the number of lectures containing that word in its title. **Even if a word appears more than once in a lecture title, it is counted once**.\n"
      ]
    },
    {
      "cell_type": "code",
      "metadata": {
        "id": "gXafFvvp7wtj",
        "exercise_id": "q2_2",
        "inlinetests": {
          "InlineTest_2_2": "\ntry:\n  courses = create_list('course_list.csv')\n  vocab = create_list('keyword_list.csv')\n  df = count_df(courses, vocab)\n  assert 243 == len(df), f\"'len(df)' returns {len(df)}, while the expected answer is {243}\"\n  assert 2 == df[vocab.index('プログラミング')], f\"'df[vocab.index('プログラミング')]' returns {df[vocab.index('プログラミング')]}, while the expected answer is {2}\"\n  assert 12 == df[vocab.index('英語')], f\"'df[vocab.index('英語')]' returns {df[vocab.index('英語')]}, while the expected answer is {12}\"\nexcept AssertionError as e:\n    raise e\nexcept Exception as e:\n    assert False, f\"Your function raises an exception: {e}.\""
        }
      },
      "source": [
        "def count_df(courses, vocab):\n",
        "  dic={}\n",
        "  for i in range(len(vocab)):\n",
        "    for c in courses:\n",
        "      if vocab[i] in c:\n",
        "        if i in dic:\n",
        "          dic[i] +=1\n",
        "        else:\n",
        "          dic[i]= 1\n",
        "  return dic"
      ],
      "execution_count": null,
      "outputs": []
    },
    {
      "cell_type": "markdown",
      "metadata": {
        "id": "jJFv8DWN8q8r"
      },
      "source": [
        "Once the `count_df` function is complete, run the following code. Your function should return a dictionary with lenght `243`. And DF of a word \"プログラミング\"（its ID is `145`）should be `2`."
      ]
    },
    {
      "cell_type": "code",
      "metadata": {
        "id": "MPouabvS83LR",
        "colab": {
          "base_uri": "https://localhost:8080/"
        },
        "outputId": "2ed72ea7-98e4-40ac-db19-29b544f5f398"
      },
      "source": [
        "df = count_df(courses, vocab)\n",
        "print(len(df))\n",
        "print(vocab.index('プログラミング'), df[vocab.index('プログラミング')])\n",
        "print(vocab.index('英語'), df[vocab.index('英語')])"
      ],
      "execution_count": null,
      "outputs": [
        {
          "output_type": "stream",
          "name": "stdout",
          "text": [
            "243\n",
            "145 2\n",
            "0 12\n"
          ]
        }
      ]
    },
    {
      "cell_type": "markdown",
      "metadata": {
        "id": "3_sBEgPJ_nwj"
      },
      "source": [
        "## Q3\n",
        "### Q3.1\n",
        "Consider a vector to represent a lecture, whose dimension is each word in `vocab`. The vector length is equal to the length of `vocab`, and the `i`th element of the vector is `1` if when the word `vocab[i]` is included in the lecture title, and `0` otherwise.\n",
        "\n",
        "Complete the `lec_word_matrix` function that takes the `courses` and `vocab` lists and returns a `NumPy` matrix with the vector of each lecture in `courses` as its row and each word in `vocab` as its column. In the returned matrix (lecture-word matrix), if a lecture title (row) contains a word (column), then its corresponding element should be 1.\n"
      ]
    },
    {
      "cell_type": "code",
      "metadata": {
        "id": "XqR9PR7e_zk9",
        "exercise_id": "q3_1",
        "inlinetests": {
          "InlineTest_3_1": "\ntry:\n  courses = create_list('course_list.csv')\n  vocab = create_list('keyword_list.csv')\n  assert (552, 243) == lec_word_matrix(courses, vocab).shape, f\"'lec_word_matrix(courses, vocab).shape' returns {lec_word_matrix(courses, vocab).shape}, while the expected answer is {(552, 243)}\"\n  assert 2287 == np.sum(lec_word_matrix(courses, vocab)), f\"'np.sum(lec_word_matrix(courses, vocab))' returns {np.sum(lec_word_matrix(courses, vocab))}, while the expected answer is {2287}\"\nexcept AssertionError as e:\n    raise e\nexcept Exception as e:\n    assert False, f\"Your function raises an exception: {e}.\""
        }
      },
      "source": [
        "def lec_word_matrix(courses, vocab):\n",
        "  ### Arguments：\n",
        "  # courses: lecture list\n",
        "  # vocab: word list\n",
        "  mat = np.zeros((len(courses), len(vocab)))\n",
        "  for i in range(len(vocab)):\n",
        "      for j in range(len(courses)):\n",
        "        if vocab[i] in courses[j]:\n",
        "            mat[j][i] = 1\n",
        "  return mat"
      ],
      "execution_count": null,
      "outputs": []
    },
    {
      "cell_type": "markdown",
      "metadata": {
        "id": "EgqmU3JWA0Hw"
      },
      "source": [
        "Once the `lec_word_matrix` function is complete, run the following cell. Your function should return a matrix with a shape `(552, 243)` and the sum of its element values should be `2287`."
      ]
    },
    {
      "cell_type": "code",
      "metadata": {
        "id": "qVVOV39zA5gk",
        "colab": {
          "base_uri": "https://localhost:8080/"
        },
        "outputId": "70eb149b-fc6f-4fc3-a82c-c252e789d06b"
      },
      "source": [
        "print(lec_word_matrix(courses, vocab).shape)\n",
        "print(np.sum(lec_word_matrix(courses, vocab)))"
      ],
      "execution_count": null,
      "outputs": [
        {
          "output_type": "stream",
          "name": "stdout",
          "text": [
            "(552, 243)\n",
            "2287.0\n"
          ]
        }
      ]
    },
    {
      "cell_type": "markdown",
      "metadata": {
        "id": "gyrpzNGWCg-U"
      },
      "source": [
        "### Q3.2\n",
        "Complete the `lec_word_tf_matrix` to return a matrix where each element of the lecture-word matrix in Q3.1 is represented by the number of times the lecture title contains the word (TF: Term Frequency), rather than 1 or 0.\n"
      ]
    },
    {
      "cell_type": "code",
      "metadata": {
        "id": "JZo8sCHzCqL6",
        "exercise_id": "q3_2",
        "inlinetests": {
          "InlineTest_3_2": "\ntry:\n  courses = create_list('course_list.csv')\n  vocab = create_list('keyword_list.csv')\n  assert (552, 243) == lec_word_tf_matrix(courses, vocab).shape, f\"'lec_word_tf_matrix(courses, vocab).shape' returns {lec_word_tf_matrix(courses, vocab).shape}, while the expected answer is {(552, 243)}\"\n  assert 2366 == np.sum(lec_word_tf_matrix(courses, vocab)), f\"'np.sum(lec_word_tf_matrix(courses, vocab))' returns {np.sum(lec_word_tf_matrix(courses, vocab))}, while the expected answer is {2366}\"\n  assert 2 == lec_word_tf_matrix(courses, vocab)[courses.index('自然科学ゼミナール（情報科学）'), vocab.index('科学')], f\"'lec_word_tf_matrix(courses, vocab)[courses.index('自然科学ゼミナール（情報科学）'), vocab.index('科学')]' returns {lec_word_tf_matrix(courses, vocab)[courses.index('自然科学ゼミナール（情報科学）'), vocab.index('科学')]}, while the expected answer is {2}\"\nexcept AssertionError as e:\n    raise e\nexcept Exception as e:\n    assert False, f\"Your function raises an exception: {e}.\""
        }
      },
      "source": [
        "def lec_word_tf_matrix(courses, vocab):\n",
        "  ### Arguments：\n",
        "  # courses: lecture list\n",
        "  # vocab: word list\n",
        "  mat = np.zeros((len(courses), len(vocab)))\n",
        "  for i in range(len(vocab)):\n",
        "      for j in range(len(courses)):\n",
        "        if vocab[i] in courses[j]:\n",
        "            mat[j][i] = courses[j].count(vocab[i])\n",
        "  return mat"
      ],
      "execution_count": null,
      "outputs": []
    },
    {
      "cell_type": "markdown",
      "metadata": {
        "id": "M26CWzOUDH_X"
      },
      "source": [
        "Once the `lec_word_tf_matrix` function is complete, run the following cell. Your function should return a matrix whose the sum of its element values is `2366`.\n",
        "\n",
        "For example, a lecture 「自然科学ゼミナール（情報科学）」 contains 「科学」 twice in its title. Therefore, its correspoinding matrix element should be 2."
      ]
    },
    {
      "cell_type": "code",
      "metadata": {
        "id": "Ve7KjM-ODVDX",
        "colab": {
          "base_uri": "https://localhost:8080/"
        },
        "outputId": "8846aca5-1232-4500-bdff-e6b9b8cce1f6"
      },
      "source": [
        "print(np.sum(lec_word_tf_matrix(courses, vocab)))\n",
        "print(lec_word_tf_matrix(courses, vocab)[courses.index('自然科学ゼミナール（情報科学）'), vocab.index('科学')])"
      ],
      "execution_count": null,
      "outputs": [
        {
          "output_type": "stream",
          "name": "stdout",
          "text": [
            "2366.0\n",
            "2.0\n"
          ]
        }
      ]
    },
    {
      "cell_type": "markdown",
      "metadata": {
        "id": "oBfOCrrjEUKA"
      },
      "source": [
        "### Q3.3\n",
        "Complete the `lec_word_tfidf_matrix` function that returns a matrix whose elements are TFIDF values obtained by multiplying each element of the lecture-word matrix in Q3.2 ($TF_{ij}$ for word `j` in lecture `i`) by the IDF value of that word.\n",
        "\n",
        "Here, the TFIDF values for lecture `i` and word `j` are defined as follows:\n",
        "\n",
        "```Python\n",
        "TFIDF=TF_ij*log(the number of lectures/DF for word j)=TF_ij*log(len(courses)/df[j])\n",
        "```\n",
        "You may use `np.log()`."
      ]
    },
    {
      "cell_type": "code",
      "metadata": {
        "id": "4xGrq29jE27m",
        "exercise_id": "q3_3",
        "inlinetests": {
          "InlineTest_3_3": "\ntry:\n  courses = create_list('course_list.csv')\n  vocab = create_list('keyword_list.csv')\n  df = count_df(courses, vocab)\n  tfidf_mat = lec_word_tfidf_matrix(courses, vocab, df)\n  assert 7274 == int(np.sum(tfidf_mat)), f\"'int(np.sum(tfidf_mat))' returns {int(np.sum(tfidf_mat))}, while the expected answer is {7274}\"\n  assert 399 == int(tfidf_mat[courses.index('自然科学ゼミナール（情報科学）'), vocab.index('科学')]*100), f\"'tfidf_mat[courses.index('自然科学ゼミナール（情報科学）'), vocab.index('科学')]' returns {tfidf_mat[courses.index('自然科学ゼミナール（情報科学）'), vocab.index('科学')]}, while the expected answer is {3.99}...\"\nexcept AssertionError as e:\n    raise e\nexcept Exception as e:\n    assert False, f\"Your function raises an exception: {e}.\""
        }
      },
      "source": [
        "def lec_word_tfidf_matrix(courses, vocab, df):\n",
        "  ### Arguments：\n",
        "  # courses: lecture list\n",
        "  # vocab: word list\n",
        "  # df: DF dictionary\n",
        "  mat = np.zeros((len(courses), len(vocab))) \n",
        "  for j in range(len(vocab)):\n",
        "      for i in range(len(courses)):\n",
        "        if vocab[j] in courses[i]:\n",
        "            mat[i][j] = courses[i].count(vocab[j])*np.log(len(courses)/df[j])\n",
        "  return mat"
      ],
      "execution_count": null,
      "outputs": []
    },
    {
      "cell_type": "markdown",
      "metadata": {
        "id": "Lrq2X3hfFdyx"
      },
      "source": [
        "Once the `lec_word_tfidf_matrix` function is complete, run the following cell. Your function should return a matrix whose the integer part of the sum of its element values is `7274`.\n",
        "\n",
        "A lecture 「自然科学ゼミナール（情報科学）」 contains 「科学」 twice in its title and DF for 「科学」 is 75. Therefore, its corresponding matrix element should be $2*log(552/75)\\simeq3.99$."
      ]
    },
    {
      "cell_type": "code",
      "metadata": {
        "id": "Sj9aqbuyFxZj",
        "colab": {
          "base_uri": "https://localhost:8080/"
        },
        "outputId": "8cb3aab6-ada8-4887-b63e-c28766cdb3b2"
      },
      "source": [
        "tfidf_mat = lec_word_tfidf_matrix(courses, vocab, df)\n",
        "print(int(np.sum(tfidf_mat)))\n",
        "print(df[vocab.index('科学')], tfidf_mat[courses.index('自然科学ゼミナール（情報科学）'), vocab.index('科学')])"
      ],
      "execution_count": null,
      "outputs": [
        {
          "output_type": "stream",
          "name": "stdout",
          "text": [
            "7274\n",
            "75 3.9921198654815697\n"
          ]
        }
      ]
    },
    {
      "cell_type": "markdown",
      "metadata": {
        "id": "nj-p57LnHrHj"
      },
      "source": [
        "## Q4\n",
        "Complete the `find_similar_course` function that calculates the similarity of the input lecture to all other lectures based on cos similarity and returns a dictionary with the titles of similar lectures as its keys and their similarity as values. You may use the function in Q1 to calculate cos similarity.\n",
        "\n",
        "Note that the input lecture and lectures with similarity of 0 should not be included in the dictionary. \n",
        "\n"
      ]
    },
    {
      "cell_type": "code",
      "metadata": {
        "id": "1SGjWSGJH0BY",
        "exercise_id": "q4",
        "inlinetests": {
          "InlineTest_4": "\ntry:\n  courses = create_list('course_list.csv')\n  vocab = create_list('keyword_list.csv')\n  df = count_df(courses, vocab)\n  tfidf_mat = lec_word_tfidf_matrix(courses, vocab, df)\n  title=\"自然科学ゼミナール（情報科学）\" \n  results=find_similar_course(courses.index(title), tfidf_mat, courses)\n  ranking = pd.DataFrame(list(results.items()), columns=['title', \"similarity\"])\n  assert 64 ==  int(ranking.sort_values(by='similarity', ascending=False).iloc[0,1]*100), f\"'ranking.sort_values(by='similarity', ascending=False).iloc[0,1]' returns {ranking.sort_values(by='similarity', ascending=False).iloc[0,1]}, while the expected answer is {0.64}...\"\n  assert 63 ==  int(ranking.sort_values(by='similarity', ascending=False).iloc[1,1]*100), f\"'ranking.sort_values(by='similarity', ascending=False).iloc[1,1]' returns {ranking.sort_values(by='similarity', ascending=False).iloc[1,1]}, while the expected answer is {0.63}...\"\n  assert \"自然科学ゼミナール（生命科学）\" == ranking.sort_values(by='similarity', ascending=False).iloc[0,0], f\"'ranking.sort_values(by='similarity', ascending=False).iloc[0,0]' returns {ranking.sort_values(by='similarity', ascending=False).iloc[0,0]}, while the expected answer is {'自然科学ゼミナール（生命科学）'}\"\n  assert \"生物情報科学\" == ranking.sort_values(by='similarity', ascending=False).iloc[1,0] , f\"'ranking.sort_values(by='similarity', ascending=False).iloc[1,0]' returns {ranking.sort_values(by='similarity', ascending=False).iloc[1,0]}, while the expected answer is {'生物情報科学'}\"\nexcept AssertionError as e:\n    raise e\nexcept Exception as e:\n    assert False, f\"Your function raises an exception: {e}.\""
        }
      },
      "source": [
        "def find_similar_course(target, tfidf_mat, courses):\n",
        "  ### Arguments：\n",
        "  # target:  ID of a input lecture\n",
        "  # tfidf_mat: matrix created in Q3.3\n",
        "  # courses: lecture list\n",
        "  dic = {courses[i] : cos_sim(tfidf_mat[target],tfidf_mat[i]) for i in range(len(courses)) if not (target == i or cos_sim(tfidf_mat[target],tfidf_mat[i])==0) }\n",
        "  return dic"
      ],
      "execution_count": null,
      "outputs": []
    },
    {
      "cell_type": "code",
      "source": [
        "len(cos_sim(tfidf_mat,tfidf_mat[152]))"
      ],
      "metadata": {
        "colab": {
          "base_uri": "https://localhost:8080/"
        },
        "id": "s-43zOauAXGc",
        "outputId": "bc2dda87-fb83-40a4-958e-9256a32b4079"
      },
      "execution_count": null,
      "outputs": [
        {
          "output_type": "execute_result",
          "data": {
            "text/plain": [
              "552"
            ]
          },
          "metadata": {},
          "execution_count": 63
        }
      ]
    },
    {
      "cell_type": "markdown",
      "metadata": {
        "id": "opCyVGY2JFN8"
      },
      "source": [
        "Once the `find_similar_course` function is complete, run the following cell.\n",
        "\n",
        "The top similar lectures to the input lecture `自然科学ゼミナール（情報科学）` are `自然科学ゼミナール（生命科学）、生物情報科学、自然科学ゼミナール（数理科学）、自然現象とモデル、人類科学、...`.\n",
        "\n",
        "The number of similar lectures should be `230`."
      ]
    },
    {
      "cell_type": "code",
      "metadata": {
        "id": "dMxDtMWcJJ8v",
        "colab": {
          "base_uri": "https://localhost:8080/",
          "height": 442
        },
        "outputId": "198b9044-c271-4ad4-917a-7c77c096a2cc"
      },
      "source": [
        "tfidf_mat = lec_word_tfidf_matrix(courses, vocab, df)\n",
        "title=\"自然科学ゼミナール（情報科学）\" # 入力の授業名\n",
        "results=find_similar_course(courses.index(title), tfidf_mat, courses) # 類似授業の辞書を受け取る\n",
        "print(len(results)) # 類似授業の数\n",
        "ranking = pd.DataFrame(list(results.items()), columns=['title', \"similarity\"]) # 類似度が上位の授業を表示\n",
        "ranking.sort_values(by='similarity', ascending=False).head(10)"
      ],
      "execution_count": null,
      "outputs": [
        {
          "output_type": "stream",
          "name": "stdout",
          "text": [
            "230\n"
          ]
        },
        {
          "output_type": "execute_result",
          "data": {
            "text/plain": [
              "                                         title  similarity\n",
              "70                             自然科学ゼミナール（生命科学）    0.644874\n",
              "88                                      生物情報科学    0.631863\n",
              "68                             自然科学ゼミナール（数理科学）    0.622156\n",
              "196                                   自然現象とモデル    0.399247\n",
              "67                                        人類科学    0.387201\n",
              "87                                        食の科学    0.387201\n",
              "65                                      天然物の科学    0.387201\n",
              "5                                           情報    0.332018\n",
              "169   全学体験ゼミナール　(都市の緑のインタープリター養成－子どもに伝える自然体験－)    0.308337\n",
              "120  全学自由研究ゼミナール　(ミュオグラフィ科学/Muography Science)    0.281423"
            ],
            "text/html": [
              "\n",
              "  <div id=\"df-c345bdd6-24bb-4eb6-bf08-829670dddcc1\">\n",
              "    <div class=\"colab-df-container\">\n",
              "      <div>\n",
              "<style scoped>\n",
              "    .dataframe tbody tr th:only-of-type {\n",
              "        vertical-align: middle;\n",
              "    }\n",
              "\n",
              "    .dataframe tbody tr th {\n",
              "        vertical-align: top;\n",
              "    }\n",
              "\n",
              "    .dataframe thead th {\n",
              "        text-align: right;\n",
              "    }\n",
              "</style>\n",
              "<table border=\"1\" class=\"dataframe\">\n",
              "  <thead>\n",
              "    <tr style=\"text-align: right;\">\n",
              "      <th></th>\n",
              "      <th>title</th>\n",
              "      <th>similarity</th>\n",
              "    </tr>\n",
              "  </thead>\n",
              "  <tbody>\n",
              "    <tr>\n",
              "      <th>70</th>\n",
              "      <td>自然科学ゼミナール（生命科学）</td>\n",
              "      <td>0.644874</td>\n",
              "    </tr>\n",
              "    <tr>\n",
              "      <th>88</th>\n",
              "      <td>生物情報科学</td>\n",
              "      <td>0.631863</td>\n",
              "    </tr>\n",
              "    <tr>\n",
              "      <th>68</th>\n",
              "      <td>自然科学ゼミナール（数理科学）</td>\n",
              "      <td>0.622156</td>\n",
              "    </tr>\n",
              "    <tr>\n",
              "      <th>196</th>\n",
              "      <td>自然現象とモデル</td>\n",
              "      <td>0.399247</td>\n",
              "    </tr>\n",
              "    <tr>\n",
              "      <th>67</th>\n",
              "      <td>人類科学</td>\n",
              "      <td>0.387201</td>\n",
              "    </tr>\n",
              "    <tr>\n",
              "      <th>87</th>\n",
              "      <td>食の科学</td>\n",
              "      <td>0.387201</td>\n",
              "    </tr>\n",
              "    <tr>\n",
              "      <th>65</th>\n",
              "      <td>天然物の科学</td>\n",
              "      <td>0.387201</td>\n",
              "    </tr>\n",
              "    <tr>\n",
              "      <th>5</th>\n",
              "      <td>情報</td>\n",
              "      <td>0.332018</td>\n",
              "    </tr>\n",
              "    <tr>\n",
              "      <th>169</th>\n",
              "      <td>全学体験ゼミナール　(都市の緑のインタープリター養成－子どもに伝える自然体験－)</td>\n",
              "      <td>0.308337</td>\n",
              "    </tr>\n",
              "    <tr>\n",
              "      <th>120</th>\n",
              "      <td>全学自由研究ゼミナール　(ミュオグラフィ科学/Muography Science)</td>\n",
              "      <td>0.281423</td>\n",
              "    </tr>\n",
              "  </tbody>\n",
              "</table>\n",
              "</div>\n",
              "      <button class=\"colab-df-convert\" onclick=\"convertToInteractive('df-c345bdd6-24bb-4eb6-bf08-829670dddcc1')\"\n",
              "              title=\"Convert this dataframe to an interactive table.\"\n",
              "              style=\"display:none;\">\n",
              "        \n",
              "  <svg xmlns=\"http://www.w3.org/2000/svg\" height=\"24px\"viewBox=\"0 0 24 24\"\n",
              "       width=\"24px\">\n",
              "    <path d=\"M0 0h24v24H0V0z\" fill=\"none\"/>\n",
              "    <path d=\"M18.56 5.44l.94 2.06.94-2.06 2.06-.94-2.06-.94-.94-2.06-.94 2.06-2.06.94zm-11 1L8.5 8.5l.94-2.06 2.06-.94-2.06-.94L8.5 2.5l-.94 2.06-2.06.94zm10 10l.94 2.06.94-2.06 2.06-.94-2.06-.94-.94-2.06-.94 2.06-2.06.94z\"/><path d=\"M17.41 7.96l-1.37-1.37c-.4-.4-.92-.59-1.43-.59-.52 0-1.04.2-1.43.59L10.3 9.45l-7.72 7.72c-.78.78-.78 2.05 0 2.83L4 21.41c.39.39.9.59 1.41.59.51 0 1.02-.2 1.41-.59l7.78-7.78 2.81-2.81c.8-.78.8-2.07 0-2.86zM5.41 20L4 18.59l7.72-7.72 1.47 1.35L5.41 20z\"/>\n",
              "  </svg>\n",
              "      </button>\n",
              "      \n",
              "  <style>\n",
              "    .colab-df-container {\n",
              "      display:flex;\n",
              "      flex-wrap:wrap;\n",
              "      gap: 12px;\n",
              "    }\n",
              "\n",
              "    .colab-df-convert {\n",
              "      background-color: #E8F0FE;\n",
              "      border: none;\n",
              "      border-radius: 50%;\n",
              "      cursor: pointer;\n",
              "      display: none;\n",
              "      fill: #1967D2;\n",
              "      height: 32px;\n",
              "      padding: 0 0 0 0;\n",
              "      width: 32px;\n",
              "    }\n",
              "\n",
              "    .colab-df-convert:hover {\n",
              "      background-color: #E2EBFA;\n",
              "      box-shadow: 0px 1px 2px rgba(60, 64, 67, 0.3), 0px 1px 3px 1px rgba(60, 64, 67, 0.15);\n",
              "      fill: #174EA6;\n",
              "    }\n",
              "\n",
              "    [theme=dark] .colab-df-convert {\n",
              "      background-color: #3B4455;\n",
              "      fill: #D2E3FC;\n",
              "    }\n",
              "\n",
              "    [theme=dark] .colab-df-convert:hover {\n",
              "      background-color: #434B5C;\n",
              "      box-shadow: 0px 1px 3px 1px rgba(0, 0, 0, 0.15);\n",
              "      filter: drop-shadow(0px 1px 2px rgba(0, 0, 0, 0.3));\n",
              "      fill: #FFFFFF;\n",
              "    }\n",
              "  </style>\n",
              "\n",
              "      <script>\n",
              "        const buttonEl =\n",
              "          document.querySelector('#df-c345bdd6-24bb-4eb6-bf08-829670dddcc1 button.colab-df-convert');\n",
              "        buttonEl.style.display =\n",
              "          google.colab.kernel.accessAllowed ? 'block' : 'none';\n",
              "\n",
              "        async function convertToInteractive(key) {\n",
              "          const element = document.querySelector('#df-c345bdd6-24bb-4eb6-bf08-829670dddcc1');\n",
              "          const dataTable =\n",
              "            await google.colab.kernel.invokeFunction('convertToInteractive',\n",
              "                                                     [key], {});\n",
              "          if (!dataTable) return;\n",
              "\n",
              "          const docLinkHtml = 'Like what you see? Visit the ' +\n",
              "            '<a target=\"_blank\" href=https://colab.research.google.com/notebooks/data_table.ipynb>data table notebook</a>'\n",
              "            + ' to learn more about interactive tables.';\n",
              "          element.innerHTML = '';\n",
              "          dataTable['output_type'] = 'display_data';\n",
              "          await google.colab.output.renderOutput(dataTable, element);\n",
              "          const docLink = document.createElement('div');\n",
              "          docLink.innerHTML = docLinkHtml;\n",
              "          element.appendChild(docLink);\n",
              "        }\n",
              "      </script>\n",
              "    </div>\n",
              "  </div>\n",
              "  "
            ]
          },
          "metadata": {},
          "execution_count": 64
        }
      ]
    },
    {
      "cell_type": "markdown",
      "metadata": {
        "id": "H8DW30_AxIxe"
      },
      "source": [
        "## Code Testing\n"
      ]
    },
    {
      "cell_type": "code",
      "metadata": {
        "id": "N46m4DxjxHtn",
        "colab": {
          "base_uri": "https://localhost:8080/"
        },
        "outputId": "b359c952-eeeb-4bd5-a170-dd134b0f0a1d"
      },
      "source": [
        "# Run this cell first\n",
        "!pip install prog_edu_assistant_tools\n",
        "import re\n",
        "import sys\n",
        "import jinja2\n",
        "from IPython.core import display\n",
        "from google.colab import _message as google_message\n",
        "from prog_edu_assistant_tools.magics import report, autotest, CaptureOutput\n",
        "from prog_edu_assistant_tools.check import Check"
      ],
      "execution_count": null,
      "outputs": [
        {
          "output_type": "stream",
          "name": "stdout",
          "text": [
            "Looking in indexes: https://pypi.org/simple, https://us-python.pkg.dev/colab-wheels/public/simple/\n",
            "Collecting prog_edu_assistant_tools\n",
            "  Downloading prog_edu_assistant_tools-0.3.1-py3-none-any.whl (16 kB)\n",
            "Requirement already satisfied: IPython in /usr/local/lib/python3.7/dist-packages (from prog_edu_assistant_tools) (7.9.0)\n",
            "Requirement already satisfied: Jinja2 in /usr/local/lib/python3.7/dist-packages (from prog_edu_assistant_tools) (2.11.3)\n",
            "Requirement already satisfied: prompt-toolkit<2.1.0,>=2.0.0 in /usr/local/lib/python3.7/dist-packages (from IPython->prog_edu_assistant_tools) (2.0.10)\n",
            "Requirement already satisfied: pexpect in /usr/local/lib/python3.7/dist-packages (from IPython->prog_edu_assistant_tools) (4.8.0)\n",
            "Requirement already satisfied: pygments in /usr/local/lib/python3.7/dist-packages (from IPython->prog_edu_assistant_tools) (2.6.1)\n",
            "Collecting jedi>=0.10\n",
            "  Downloading jedi-0.18.1-py2.py3-none-any.whl (1.6 MB)\n",
            "\u001b[K     |████████████████████████████████| 1.6 MB 7.4 MB/s \n",
            "\u001b[?25hRequirement already satisfied: decorator in /usr/local/lib/python3.7/dist-packages (from IPython->prog_edu_assistant_tools) (4.4.2)\n",
            "Requirement already satisfied: setuptools>=18.5 in /usr/local/lib/python3.7/dist-packages (from IPython->prog_edu_assistant_tools) (57.4.0)\n",
            "Requirement already satisfied: backcall in /usr/local/lib/python3.7/dist-packages (from IPython->prog_edu_assistant_tools) (0.2.0)\n",
            "Requirement already satisfied: traitlets>=4.2 in /usr/local/lib/python3.7/dist-packages (from IPython->prog_edu_assistant_tools) (5.1.1)\n",
            "Requirement already satisfied: pickleshare in /usr/local/lib/python3.7/dist-packages (from IPython->prog_edu_assistant_tools) (0.7.5)\n",
            "Requirement already satisfied: parso<0.9.0,>=0.8.0 in /usr/local/lib/python3.7/dist-packages (from jedi>=0.10->IPython->prog_edu_assistant_tools) (0.8.3)\n",
            "Requirement already satisfied: six>=1.9.0 in /usr/local/lib/python3.7/dist-packages (from prompt-toolkit<2.1.0,>=2.0.0->IPython->prog_edu_assistant_tools) (1.15.0)\n",
            "Requirement already satisfied: wcwidth in /usr/local/lib/python3.7/dist-packages (from prompt-toolkit<2.1.0,>=2.0.0->IPython->prog_edu_assistant_tools) (0.2.5)\n",
            "Requirement already satisfied: MarkupSafe>=0.23 in /usr/local/lib/python3.7/dist-packages (from Jinja2->prog_edu_assistant_tools) (2.0.1)\n",
            "Requirement already satisfied: ptyprocess>=0.5 in /usr/local/lib/python3.7/dist-packages (from pexpect->IPython->prog_edu_assistant_tools) (0.7.0)\n",
            "Installing collected packages: jedi, prog-edu-assistant-tools\n",
            "Successfully installed jedi-0.18.1 prog-edu-assistant-tools-0.3.1\n"
          ]
        }
      ]
    },
    {
      "cell_type": "markdown",
      "metadata": {
        "id": "dJuIyggO0zw1"
      },
      "source": [
        "## Q1"
      ]
    },
    {
      "cell_type": "code",
      "metadata": {
        "id": "5g_v37Xr04J4",
        "colab": {
          "base_uri": "https://localhost:8080/",
          "height": 161
        },
        "outputId": "30b6e8b8-7a19-453b-b4bb-e90f9754b60d"
      },
      "source": [
        "# Run this cell to check your solution.\n",
        "# If you get an error 'Check not defined', make sure you have run all preceding\n",
        "# cells once (Runtime -> Run before)\n",
        "Check('q1')"
      ],
      "execution_count": null,
      "outputs": [
        {
          "output_type": "execute_result",
          "data": {
            "text/plain": [
              "<IPython.core.display.HTML object>"
            ],
            "text/html": [
              "\n",
              "  <h4 style='color: #387;'>Your submission</h4>\n",
              "  <pre style='background: #F0F0F0; padding: 3pt; margin: 4pt; border: 1pt solid #DDD; border-radius: 3pt;'>def cos_sim(vec1, vec2):\n",
              "  return np.dot(vec1,vec2)/(np.linalg.norm(vec1)*np.linalg.norm(vec2))</pre>\n",
              "  <h4 style='color: #387;'>Results</h4>\n",
              "  \n",
              "  &#x2705;\n",
              "  Looks OK.\n",
              "  "
            ]
          },
          "metadata": {},
          "execution_count": 66
        }
      ]
    },
    {
      "cell_type": "markdown",
      "metadata": {
        "id": "e1TbzkBs5ap_"
      },
      "source": [
        "## Q2.1"
      ]
    },
    {
      "cell_type": "code",
      "metadata": {
        "id": "gKZXt3eQ08dY",
        "colab": {
          "base_uri": "https://localhost:8080/",
          "height": 181
        },
        "outputId": "06d3555f-0fbc-4cdc-b699-a945ce362a66"
      },
      "source": [
        "# Run this cell to check your solution.\n",
        "# If you get an error 'Check not defined', make sure you have run all preceding\n",
        "# cells once (Runtime -> Run before)\n",
        "Check('q2_1')"
      ],
      "execution_count": null,
      "outputs": [
        {
          "output_type": "execute_result",
          "data": {
            "text/plain": [
              "<IPython.core.display.HTML object>"
            ],
            "text/html": [
              "\n",
              "  <h4 style='color: #387;'>Your submission</h4>\n",
              "  <pre style='background: #F0F0F0; padding: 3pt; margin: 4pt; border: 1pt solid #DDD; border-radius: 3pt;'>def create_list(file):\n",
              "  return pd.read_csv(file, header=None, encoding=\"utf-8\").values.flatten().tolist()</pre>\n",
              "  <h4 style='color: #387;'>Results</h4>\n",
              "  \n",
              "  &#x2705;\n",
              "  Looks OK.\n",
              "  "
            ]
          },
          "metadata": {},
          "execution_count": 67
        }
      ]
    },
    {
      "cell_type": "markdown",
      "metadata": {
        "id": "OGDf6atV-UHM"
      },
      "source": [
        "## Q2.2"
      ]
    },
    {
      "cell_type": "code",
      "metadata": {
        "id": "HbeXyD9y5d6T",
        "colab": {
          "base_uri": "https://localhost:8080/",
          "height": 300
        },
        "outputId": "14064eb4-18c5-4641-e6ed-643437762196"
      },
      "source": [
        "# Run this cell to check your solution.\n",
        "# If you get an error 'Check not defined', make sure you have run all preceding\n",
        "# cells once (Runtime -> Run before)\n",
        "Check('q2_2')"
      ],
      "execution_count": null,
      "outputs": [
        {
          "output_type": "execute_result",
          "data": {
            "text/plain": [
              "<IPython.core.display.HTML object>"
            ],
            "text/html": [
              "\n",
              "  <h4 style='color: #387;'>Your submission</h4>\n",
              "  <pre style='background: #F0F0F0; padding: 3pt; margin: 4pt; border: 1pt solid #DDD; border-radius: 3pt;'>def count_df(courses, vocab):\n",
              "  dic={}\n",
              "  for i in range(len(vocab)):\n",
              "    for c in courses:\n",
              "      if vocab[i] in c:\n",
              "        if i in dic:\n",
              "          dic[i] +=1\n",
              "        else:\n",
              "          dic[i]= 1\n",
              "  return dic</pre>\n",
              "  <h4 style='color: #387;'>Results</h4>\n",
              "  \n",
              "  &#x2705;\n",
              "  Looks OK.\n",
              "  "
            ]
          },
          "metadata": {},
          "execution_count": 68
        }
      ]
    },
    {
      "cell_type": "markdown",
      "metadata": {
        "id": "d7HhYdJ8B7Al"
      },
      "source": [
        "## Q3.1"
      ]
    },
    {
      "cell_type": "code",
      "metadata": {
        "id": "6TjcM2g9-Y7G",
        "colab": {
          "base_uri": "https://localhost:8080/",
          "height": 300
        },
        "outputId": "e57936af-b1a7-4e9b-c2ed-1f1389a82dd1"
      },
      "source": [
        "# Run this cell to check your solution.\n",
        "# If you get an error 'Check not defined', make sure you have run all preceding\n",
        "# cells once (Runtime -> Run before)\n",
        "Check('q3_1')"
      ],
      "execution_count": null,
      "outputs": [
        {
          "output_type": "execute_result",
          "data": {
            "text/plain": [
              "<IPython.core.display.HTML object>"
            ],
            "text/html": [
              "\n",
              "  <h4 style='color: #387;'>Your submission</h4>\n",
              "  <pre style='background: #F0F0F0; padding: 3pt; margin: 4pt; border: 1pt solid #DDD; border-radius: 3pt;'>def lec_word_matrix(courses, vocab):\n",
              "  ### Arguments：\n",
              "  # courses: lecture list\n",
              "  # vocab: word list\n",
              "  mat = np.zeros((len(courses), len(vocab)))\n",
              "  for i in range(len(vocab)):\n",
              "      for j in range(len(courses)):\n",
              "        if vocab[i] in courses[j]:\n",
              "            mat[j][i] = 1\n",
              "  return mat</pre>\n",
              "  <h4 style='color: #387;'>Results</h4>\n",
              "  \n",
              "  &#x2705;\n",
              "  Looks OK.\n",
              "  "
            ]
          },
          "metadata": {},
          "execution_count": 69
        }
      ]
    },
    {
      "cell_type": "markdown",
      "metadata": {
        "id": "XdIiAGXwEHif"
      },
      "source": [
        "## Q3.2"
      ]
    },
    {
      "cell_type": "code",
      "metadata": {
        "id": "wrgq4dMVB-Mi",
        "colab": {
          "base_uri": "https://localhost:8080/",
          "height": 300
        },
        "outputId": "aaf8dc22-9376-4c0e-c8a1-03eb7d2e1e4b"
      },
      "source": [
        "# Run this cell to check your solution.\n",
        "# If you get an error 'Check not defined', make sure you have run all preceding\n",
        "# cells once (Runtime -> Run before)\n",
        "Check('q3_2')"
      ],
      "execution_count": null,
      "outputs": [
        {
          "output_type": "execute_result",
          "data": {
            "text/plain": [
              "<IPython.core.display.HTML object>"
            ],
            "text/html": [
              "\n",
              "  <h4 style='color: #387;'>Your submission</h4>\n",
              "  <pre style='background: #F0F0F0; padding: 3pt; margin: 4pt; border: 1pt solid #DDD; border-radius: 3pt;'>def lec_word_tf_matrix(courses, vocab):\n",
              "  ### Arguments：\n",
              "  # courses: lecture list\n",
              "  # vocab: word list\n",
              "  mat = np.zeros((len(courses), len(vocab)))\n",
              "  for i in range(len(vocab)):\n",
              "      for j in range(len(courses)):\n",
              "        if vocab[i] in courses[j]:\n",
              "            mat[j][i] = courses[j].count(vocab[i])\n",
              "  return mat</pre>\n",
              "  <h4 style='color: #387;'>Results</h4>\n",
              "  \n",
              "  &#x2705;\n",
              "  Looks OK.\n",
              "  "
            ]
          },
          "metadata": {},
          "execution_count": 70
        }
      ]
    },
    {
      "cell_type": "markdown",
      "metadata": {
        "id": "DLB_F73LHELG"
      },
      "source": [
        "## Q3.3"
      ]
    },
    {
      "cell_type": "code",
      "metadata": {
        "id": "vCSBLZIFEK8o",
        "colab": {
          "base_uri": "https://localhost:8080/",
          "height": 317
        },
        "outputId": "991f05b5-330f-4eda-8821-83b226bb5097"
      },
      "source": [
        "# Run this cell to check your solution.\n",
        "# If you get an error 'Check not defined', make sure you have run all preceding\n",
        "# cells once (Runtime -> Run before)\n",
        "Check('q3_3')"
      ],
      "execution_count": null,
      "outputs": [
        {
          "output_type": "execute_result",
          "data": {
            "text/plain": [
              "<IPython.core.display.HTML object>"
            ],
            "text/html": [
              "\n",
              "  <h4 style='color: #387;'>Your submission</h4>\n",
              "  <pre style='background: #F0F0F0; padding: 3pt; margin: 4pt; border: 1pt solid #DDD; border-radius: 3pt;'>def lec_word_tfidf_matrix(courses, vocab, df):\n",
              "  ### Arguments：\n",
              "  # courses: lecture list\n",
              "  # vocab: word list\n",
              "  # df: DF dictionary\n",
              "  mat = np.zeros((len(courses), len(vocab))) \n",
              "  for j in range(len(vocab)):\n",
              "      for i in range(len(courses)):\n",
              "        if vocab[j] in courses[i]:\n",
              "            mat[i][j] = courses[i].count(vocab[j])*np.log(len(courses)/df[j])\n",
              "  return mat</pre>\n",
              "  <h4 style='color: #387;'>Results</h4>\n",
              "  \n",
              "  &#x2705;\n",
              "  Looks OK.\n",
              "  "
            ]
          },
          "metadata": {},
          "execution_count": 71
        }
      ]
    },
    {
      "cell_type": "markdown",
      "metadata": {
        "id": "y91pYrUrMbss"
      },
      "source": [
        "## Q4"
      ]
    },
    {
      "cell_type": "code",
      "metadata": {
        "id": "qlIEnmwEHHzd",
        "colab": {
          "base_uri": "https://localhost:8080/",
          "height": 268
        },
        "outputId": "00a57377-cffa-48f0-deb5-a321df8200f9"
      },
      "source": [
        "# Run this cell to check your solution.\n",
        "# If you get an error 'Check not defined', make sure you have run all preceding\n",
        "# cells once (Runtime -> Run before)\n",
        "Check('q4')"
      ],
      "execution_count": null,
      "outputs": [
        {
          "output_type": "execute_result",
          "data": {
            "text/plain": [
              "<IPython.core.display.HTML object>"
            ],
            "text/html": [
              "\n",
              "  <h4 style='color: #387;'>Your submission</h4>\n",
              "  <pre style='background: #F0F0F0; padding: 3pt; margin: 4pt; border: 1pt solid #DDD; border-radius: 3pt;'>def find_similar_course(target, tfidf_mat, courses):\n",
              "  ### Arguments：\n",
              "  # target:  ID of a input lecture\n",
              "  # tfidf_mat: matrix created in Q3.3\n",
              "  # courses: lecture list\n",
              "  dic = {courses[i] : cos_sim(tfidf_mat[target],tfidf_mat[i]) for i in range(len(courses)) if not (target == i or cos_sim(tfidf_mat[target],tfidf_mat[i])==0) }\n",
              "  return dic</pre>\n",
              "  <h4 style='color: #387;'>Results</h4>\n",
              "  \n",
              "  &#x2705;\n",
              "  Looks OK.\n",
              "  "
            ]
          },
          "metadata": {},
          "execution_count": 72
        }
      ]
    },
    {
      "cell_type": "code",
      "source": [],
      "metadata": {
        "id": "gtfo638wBD4e"
      },
      "execution_count": null,
      "outputs": []
    }
  ]
}