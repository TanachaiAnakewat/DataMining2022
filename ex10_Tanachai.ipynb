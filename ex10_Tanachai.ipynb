{
  "nbformat": 4,
  "nbformat_minor": 0,
  "metadata": {
    "colab": {
      "provenance": [],
      "include_colab_link": true
    },
    "kernelspec": {
      "name": "python3",
      "display_name": "Python 3"
    },
    "language_info": {
      "name": "python"
    }
  },
  "cells": [
    {
      "cell_type": "markdown",
      "metadata": {
        "id": "view-in-github",
        "colab_type": "text"
      },
      "source": [
        "<a href=\"https://colab.research.google.com/github/TanachaiAnakewat/DataMining2022/blob/main/ex10_Tanachai.ipynb\" target=\"_parent\"><img src=\"https://colab.research.google.com/assets/colab-badge.svg\" alt=\"Open In Colab\"/></a>"
      ]
    },
    {
      "cell_type": "markdown",
      "source": [
        "# モデル評価と選択の演習\n",
        "\n",
        "\n"
      ],
      "metadata": {
        "id": "28L69hGhYbAz"
      }
    },
    {
      "cell_type": "code",
      "source": [
        "import pandas as pd\n",
        "import numpy as  np\n",
        "import csv\n",
        "import seaborn as sns\n",
        "from sklearn.preprocessing import StandardScaler\n",
        "from sklearn.preprocessing import PolynomialFeatures\n",
        "from sklearn.linear_model import LogisticRegression\n",
        "from sklearn.pipeline import make_pipeline\n",
        "from sklearn.model_selection import train_test_split\n",
        "from sklearn.model_selection import cross_val_score, cross_validate\n",
        "from sklearn.model_selection import StratifiedKFold\n",
        "from sklearn.model_selection import GridSearchCV\n",
        "from sklearn.model_selection import learning_curve\n",
        "from sklearn.model_selection import validation_curve\n",
        "from sklearn.metrics import precision_recall_curve\n",
        "from sklearn.metrics import confusion_matrix,  accuracy_score, precision_score, recall_score, f1_score\n",
        "import matplotlib.pyplot  as plt\n",
        "%matplotlib inline"
      ],
      "metadata": {
        "id": "A5JlowCoYX-A"
      },
      "execution_count": 1,
      "outputs": []
    },
    {
      "cell_type": "code",
      "source": [
        "# Colaboratoryでは以下を実行して必要なファイルをダウンロード\n",
        "!wget https://raw.githubusercontent.com/UTDataMining/2022A/master/lab10/winequality-red.csv"
      ],
      "metadata": {
        "id": "-P_wmYK_YqAN",
        "colab": {
          "base_uri": "https://localhost:8080/"
        },
        "outputId": "d329f905-44b5-413c-b991-fa9a1824d2b4"
      },
      "execution_count": 2,
      "outputs": [
        {
          "output_type": "stream",
          "name": "stdout",
          "text": [
            "--2022-12-26 13:33:34--  https://raw.githubusercontent.com/UTDataMining/2022A/master/lab10/winequality-red.csv\n",
            "Resolving raw.githubusercontent.com (raw.githubusercontent.com)... 185.199.108.133, 185.199.109.133, 185.199.110.133, ...\n",
            "Connecting to raw.githubusercontent.com (raw.githubusercontent.com)|185.199.108.133|:443... connected.\n",
            "HTTP request sent, awaiting response... 200 OK\n",
            "Length: 84199 (82K) [text/plain]\n",
            "Saving to: ‘winequality-red.csv’\n",
            "\n",
            "winequality-red.csv 100%[===================>]  82.23K  --.-KB/s    in 0.01s   \n",
            "\n",
            "2022-12-26 13:33:34 (6.23 MB/s) - ‘winequality-red.csv’ saved [84199/84199]\n",
            "\n"
          ]
        }
      ]
    },
    {
      "cell_type": "markdown",
      "source": [
        "UCI Machine Learning Repositoryに公開されているワインの品質データセットを用いて、ワインの理化学検査結果に基づく特徴量からワインの品質を予測することを考えます。\n",
        "\n",
        "以下では赤ワインのデータセットを使用します。\n",
        "\n",
        "[Wine Quality Data Set ](https://archive.ics.uci.edu/ml/datasets/wine+quality)\n",
        "\n",
        "各ワインのデータは以下の11種類の特徴量からなります。\n",
        "- 1 - fixed acidity \n",
        "- 2 - volatile acidity \n",
        "- 3 - citric acid \n",
        "- 4 - residual sugar \n",
        "- 5 - chlorides \n",
        "- 6 - free sulfur dioxide \n",
        "- 7 - total sulfur dioxide \n",
        "- 8 - density \n",
        "- 9 - pH \n",
        "- 10 - sulphates \n",
        "- 11 - alcohol \n",
        "\n",
        "また、各ワインには0から10の品質スコアが付与さています。11種類の特徴量を元にワインの品質を高品質（ワインのqualityが6以上）、低品質（ワインのqualityが6未満）の2値にして予測する2クラス分類問題を考えます。"
      ],
      "metadata": {
        "id": "1QaKdCcPZAl4"
      }
    },
    {
      "cell_type": "code",
      "source": [
        "df = pd.read_csv(\"winequality-red.csv\", sep=\";\")\n",
        "df.head()"
      ],
      "metadata": {
        "id": "pDEBvSLDZEuL",
        "outputId": "bf531146-49c4-45dd-afb7-210891586938",
        "colab": {
          "base_uri": "https://localhost:8080/",
          "height": 267
        }
      },
      "execution_count": 3,
      "outputs": [
        {
          "output_type": "execute_result",
          "data": {
            "text/plain": [
              "   fixed acidity  volatile acidity  citric acid  residual sugar  chlorides  \\\n",
              "0            7.4              0.70         0.00             1.9      0.076   \n",
              "1            7.8              0.88         0.00             2.6      0.098   \n",
              "2            7.8              0.76         0.04             2.3      0.092   \n",
              "3           11.2              0.28         0.56             1.9      0.075   \n",
              "4            7.4              0.70         0.00             1.9      0.076   \n",
              "\n",
              "   free sulfur dioxide  total sulfur dioxide  density    pH  sulphates  \\\n",
              "0                 11.0                  34.0   0.9978  3.51       0.56   \n",
              "1                 25.0                  67.0   0.9968  3.20       0.68   \n",
              "2                 15.0                  54.0   0.9970  3.26       0.65   \n",
              "3                 17.0                  60.0   0.9980  3.16       0.58   \n",
              "4                 11.0                  34.0   0.9978  3.51       0.56   \n",
              "\n",
              "   alcohol  quality  \n",
              "0      9.4        5  \n",
              "1      9.8        5  \n",
              "2      9.8        5  \n",
              "3      9.8        6  \n",
              "4      9.4        5  "
            ],
            "text/html": [
              "\n",
              "  <div id=\"df-bdce9e45-91d4-427c-b638-269b485915f6\">\n",
              "    <div class=\"colab-df-container\">\n",
              "      <div>\n",
              "<style scoped>\n",
              "    .dataframe tbody tr th:only-of-type {\n",
              "        vertical-align: middle;\n",
              "    }\n",
              "\n",
              "    .dataframe tbody tr th {\n",
              "        vertical-align: top;\n",
              "    }\n",
              "\n",
              "    .dataframe thead th {\n",
              "        text-align: right;\n",
              "    }\n",
              "</style>\n",
              "<table border=\"1\" class=\"dataframe\">\n",
              "  <thead>\n",
              "    <tr style=\"text-align: right;\">\n",
              "      <th></th>\n",
              "      <th>fixed acidity</th>\n",
              "      <th>volatile acidity</th>\n",
              "      <th>citric acid</th>\n",
              "      <th>residual sugar</th>\n",
              "      <th>chlorides</th>\n",
              "      <th>free sulfur dioxide</th>\n",
              "      <th>total sulfur dioxide</th>\n",
              "      <th>density</th>\n",
              "      <th>pH</th>\n",
              "      <th>sulphates</th>\n",
              "      <th>alcohol</th>\n",
              "      <th>quality</th>\n",
              "    </tr>\n",
              "  </thead>\n",
              "  <tbody>\n",
              "    <tr>\n",
              "      <th>0</th>\n",
              "      <td>7.4</td>\n",
              "      <td>0.70</td>\n",
              "      <td>0.00</td>\n",
              "      <td>1.9</td>\n",
              "      <td>0.076</td>\n",
              "      <td>11.0</td>\n",
              "      <td>34.0</td>\n",
              "      <td>0.9978</td>\n",
              "      <td>3.51</td>\n",
              "      <td>0.56</td>\n",
              "      <td>9.4</td>\n",
              "      <td>5</td>\n",
              "    </tr>\n",
              "    <tr>\n",
              "      <th>1</th>\n",
              "      <td>7.8</td>\n",
              "      <td>0.88</td>\n",
              "      <td>0.00</td>\n",
              "      <td>2.6</td>\n",
              "      <td>0.098</td>\n",
              "      <td>25.0</td>\n",
              "      <td>67.0</td>\n",
              "      <td>0.9968</td>\n",
              "      <td>3.20</td>\n",
              "      <td>0.68</td>\n",
              "      <td>9.8</td>\n",
              "      <td>5</td>\n",
              "    </tr>\n",
              "    <tr>\n",
              "      <th>2</th>\n",
              "      <td>7.8</td>\n",
              "      <td>0.76</td>\n",
              "      <td>0.04</td>\n",
              "      <td>2.3</td>\n",
              "      <td>0.092</td>\n",
              "      <td>15.0</td>\n",
              "      <td>54.0</td>\n",
              "      <td>0.9970</td>\n",
              "      <td>3.26</td>\n",
              "      <td>0.65</td>\n",
              "      <td>9.8</td>\n",
              "      <td>5</td>\n",
              "    </tr>\n",
              "    <tr>\n",
              "      <th>3</th>\n",
              "      <td>11.2</td>\n",
              "      <td>0.28</td>\n",
              "      <td>0.56</td>\n",
              "      <td>1.9</td>\n",
              "      <td>0.075</td>\n",
              "      <td>17.0</td>\n",
              "      <td>60.0</td>\n",
              "      <td>0.9980</td>\n",
              "      <td>3.16</td>\n",
              "      <td>0.58</td>\n",
              "      <td>9.8</td>\n",
              "      <td>6</td>\n",
              "    </tr>\n",
              "    <tr>\n",
              "      <th>4</th>\n",
              "      <td>7.4</td>\n",
              "      <td>0.70</td>\n",
              "      <td>0.00</td>\n",
              "      <td>1.9</td>\n",
              "      <td>0.076</td>\n",
              "      <td>11.0</td>\n",
              "      <td>34.0</td>\n",
              "      <td>0.9978</td>\n",
              "      <td>3.51</td>\n",
              "      <td>0.56</td>\n",
              "      <td>9.4</td>\n",
              "      <td>5</td>\n",
              "    </tr>\n",
              "  </tbody>\n",
              "</table>\n",
              "</div>\n",
              "      <button class=\"colab-df-convert\" onclick=\"convertToInteractive('df-bdce9e45-91d4-427c-b638-269b485915f6')\"\n",
              "              title=\"Convert this dataframe to an interactive table.\"\n",
              "              style=\"display:none;\">\n",
              "        \n",
              "  <svg xmlns=\"http://www.w3.org/2000/svg\" height=\"24px\"viewBox=\"0 0 24 24\"\n",
              "       width=\"24px\">\n",
              "    <path d=\"M0 0h24v24H0V0z\" fill=\"none\"/>\n",
              "    <path d=\"M18.56 5.44l.94 2.06.94-2.06 2.06-.94-2.06-.94-.94-2.06-.94 2.06-2.06.94zm-11 1L8.5 8.5l.94-2.06 2.06-.94-2.06-.94L8.5 2.5l-.94 2.06-2.06.94zm10 10l.94 2.06.94-2.06 2.06-.94-2.06-.94-.94-2.06-.94 2.06-2.06.94z\"/><path d=\"M17.41 7.96l-1.37-1.37c-.4-.4-.92-.59-1.43-.59-.52 0-1.04.2-1.43.59L10.3 9.45l-7.72 7.72c-.78.78-.78 2.05 0 2.83L4 21.41c.39.39.9.59 1.41.59.51 0 1.02-.2 1.41-.59l7.78-7.78 2.81-2.81c.8-.78.8-2.07 0-2.86zM5.41 20L4 18.59l7.72-7.72 1.47 1.35L5.41 20z\"/>\n",
              "  </svg>\n",
              "      </button>\n",
              "      \n",
              "  <style>\n",
              "    .colab-df-container {\n",
              "      display:flex;\n",
              "      flex-wrap:wrap;\n",
              "      gap: 12px;\n",
              "    }\n",
              "\n",
              "    .colab-df-convert {\n",
              "      background-color: #E8F0FE;\n",
              "      border: none;\n",
              "      border-radius: 50%;\n",
              "      cursor: pointer;\n",
              "      display: none;\n",
              "      fill: #1967D2;\n",
              "      height: 32px;\n",
              "      padding: 0 0 0 0;\n",
              "      width: 32px;\n",
              "    }\n",
              "\n",
              "    .colab-df-convert:hover {\n",
              "      background-color: #E2EBFA;\n",
              "      box-shadow: 0px 1px 2px rgba(60, 64, 67, 0.3), 0px 1px 3px 1px rgba(60, 64, 67, 0.15);\n",
              "      fill: #174EA6;\n",
              "    }\n",
              "\n",
              "    [theme=dark] .colab-df-convert {\n",
              "      background-color: #3B4455;\n",
              "      fill: #D2E3FC;\n",
              "    }\n",
              "\n",
              "    [theme=dark] .colab-df-convert:hover {\n",
              "      background-color: #434B5C;\n",
              "      box-shadow: 0px 1px 3px 1px rgba(0, 0, 0, 0.15);\n",
              "      filter: drop-shadow(0px 1px 2px rgba(0, 0, 0, 0.3));\n",
              "      fill: #FFFFFF;\n",
              "    }\n",
              "  </style>\n",
              "\n",
              "      <script>\n",
              "        const buttonEl =\n",
              "          document.querySelector('#df-bdce9e45-91d4-427c-b638-269b485915f6 button.colab-df-convert');\n",
              "        buttonEl.style.display =\n",
              "          google.colab.kernel.accessAllowed ? 'block' : 'none';\n",
              "\n",
              "        async function convertToInteractive(key) {\n",
              "          const element = document.querySelector('#df-bdce9e45-91d4-427c-b638-269b485915f6');\n",
              "          const dataTable =\n",
              "            await google.colab.kernel.invokeFunction('convertToInteractive',\n",
              "                                                     [key], {});\n",
              "          if (!dataTable) return;\n",
              "\n",
              "          const docLinkHtml = 'Like what you see? Visit the ' +\n",
              "            '<a target=\"_blank\" href=https://colab.research.google.com/notebooks/data_table.ipynb>data table notebook</a>'\n",
              "            + ' to learn more about interactive tables.';\n",
              "          element.innerHTML = '';\n",
              "          dataTable['output_type'] = 'display_data';\n",
              "          await google.colab.output.renderOutput(dataTable, element);\n",
              "          const docLink = document.createElement('div');\n",
              "          docLink.innerHTML = docLinkHtml;\n",
              "          element.appendChild(docLink);\n",
              "        }\n",
              "      </script>\n",
              "    </div>\n",
              "  </div>\n",
              "  "
            ]
          },
          "metadata": {},
          "execution_count": 3
        }
      ]
    },
    {
      "cell_type": "code",
      "source": [
        "# 特徴量\n",
        "X=df[ ['fixed acidity','volatile acidity','citric acid','residual sugar','chlorides','free sulfur dioxide', 'total sulfur dioxide', 'density', 'pH', 'sulphates','alcohol']].values\n",
        "\n",
        "# 正解ラベルを1（高品質：ワインのqualityが6以上）か0（低品質：ワインのqualityが6未満）とする\n",
        "y=df['quality'].values\n",
        "y = (y>=6).astype(int) \n",
        "print(np.sum(y==1, axis=0)) # 高品質ワインデータの数\n",
        "print(np.sum(y==0, axis=0)) # 低品質ワインデータの数"
      ],
      "metadata": {
        "id": "RVkbRkWrZJvL",
        "outputId": "eca63dd1-0497-4357-f1c8-bd972e66b5bf",
        "colab": {
          "base_uri": "https://localhost:8080/"
        }
      },
      "execution_count": 4,
      "outputs": [
        {
          "output_type": "stream",
          "name": "stdout",
          "text": [
            "855\n",
            "744\n"
          ]
        }
      ]
    },
    {
      "cell_type": "code",
      "source": [
        "# 訓練データとテストデータに分割\n",
        "X_train, X_test, y_train, y_test = train_test_split(X, y, test_size=0.2, random_state=8, stratify=y) "
      ],
      "metadata": {
        "id": "7kfPQe-wZRID"
      },
      "execution_count": 5,
      "outputs": []
    },
    {
      "cell_type": "markdown",
      "source": [
        "まず、すべての特徴量を使ってロジスティック回帰によりワイン品質の分類をしてみます\n",
        "\n",
        "[LogisticRegression](https://scikit-learn.org/stable/modules/generated/sklearn.linear_model.LogisticRegression.html)"
      ],
      "metadata": {
        "id": "eFNOZ6h8ZccT"
      }
    },
    {
      "cell_type": "code",
      "source": [
        "# 標準化\n",
        "sc = StandardScaler()\n",
        "sc.fit(X_train)\n",
        "norm_X_train =  sc.transform(X_train)\n",
        "norm_X_test =  sc.transform(X_test)\n",
        "\n",
        "# ロジスティック回帰モデル\n",
        "lr=LogisticRegression(solver='liblinear',  multi_class='auto') \n",
        "\n",
        "lr.fit(norm_X_train, y_train)    \n",
        "y_pred = lr.predict(norm_X_test)\n",
        "\n",
        "print(confusion_matrix(y_test, y_pred)) # 混同行列\n",
        "print(accuracy_score(y_test, y_pred)) # accuracy\n",
        "print(precision_score(y_test, y_pred)) # precision\n",
        "print(recall_score(y_test, y_pred)) # recall\n",
        "print(f1_score(y_test, y_pred))  # f値\n",
        "\n",
        "# 特徴量ごとのパラメータ重み\n",
        "pd.DataFrame(lr.coef_, index=['weight'], columns=df.drop(\"quality\", axis=1).columns.values)"
      ],
      "metadata": {
        "id": "i1KPHG1dZVa8",
        "outputId": "6c42f071-0617-4d74-a12e-03858cd4863d",
        "colab": {
          "base_uri": "https://localhost:8080/",
          "height": 246
        }
      },
      "execution_count": 6,
      "outputs": [
        {
          "output_type": "stream",
          "name": "stdout",
          "text": [
            "[[107  42]\n",
            " [ 47 124]]\n",
            "0.721875\n",
            "0.7469879518072289\n",
            "0.7251461988304093\n",
            "0.7359050445103857\n"
          ]
        },
        {
          "output_type": "execute_result",
          "data": {
            "text/plain": [
              "        fixed acidity  volatile acidity  citric acid  residual sugar  \\\n",
              "weight       0.228423         -0.614599     -0.30209        0.090223   \n",
              "\n",
              "        chlorides  free sulfur dioxide  total sulfur dioxide   density  \\\n",
              "weight  -0.135772              0.19444             -0.545962 -0.118573   \n",
              "\n",
              "              pH  sulphates   alcohol  \n",
              "weight -0.049804   0.463159  0.862989  "
            ],
            "text/html": [
              "\n",
              "  <div id=\"df-840b0cdf-6829-48d8-a7ed-5a1f628378c2\">\n",
              "    <div class=\"colab-df-container\">\n",
              "      <div>\n",
              "<style scoped>\n",
              "    .dataframe tbody tr th:only-of-type {\n",
              "        vertical-align: middle;\n",
              "    }\n",
              "\n",
              "    .dataframe tbody tr th {\n",
              "        vertical-align: top;\n",
              "    }\n",
              "\n",
              "    .dataframe thead th {\n",
              "        text-align: right;\n",
              "    }\n",
              "</style>\n",
              "<table border=\"1\" class=\"dataframe\">\n",
              "  <thead>\n",
              "    <tr style=\"text-align: right;\">\n",
              "      <th></th>\n",
              "      <th>fixed acidity</th>\n",
              "      <th>volatile acidity</th>\n",
              "      <th>citric acid</th>\n",
              "      <th>residual sugar</th>\n",
              "      <th>chlorides</th>\n",
              "      <th>free sulfur dioxide</th>\n",
              "      <th>total sulfur dioxide</th>\n",
              "      <th>density</th>\n",
              "      <th>pH</th>\n",
              "      <th>sulphates</th>\n",
              "      <th>alcohol</th>\n",
              "    </tr>\n",
              "  </thead>\n",
              "  <tbody>\n",
              "    <tr>\n",
              "      <th>weight</th>\n",
              "      <td>0.228423</td>\n",
              "      <td>-0.614599</td>\n",
              "      <td>-0.30209</td>\n",
              "      <td>0.090223</td>\n",
              "      <td>-0.135772</td>\n",
              "      <td>0.19444</td>\n",
              "      <td>-0.545962</td>\n",
              "      <td>-0.118573</td>\n",
              "      <td>-0.049804</td>\n",
              "      <td>0.463159</td>\n",
              "      <td>0.862989</td>\n",
              "    </tr>\n",
              "  </tbody>\n",
              "</table>\n",
              "</div>\n",
              "      <button class=\"colab-df-convert\" onclick=\"convertToInteractive('df-840b0cdf-6829-48d8-a7ed-5a1f628378c2')\"\n",
              "              title=\"Convert this dataframe to an interactive table.\"\n",
              "              style=\"display:none;\">\n",
              "        \n",
              "  <svg xmlns=\"http://www.w3.org/2000/svg\" height=\"24px\"viewBox=\"0 0 24 24\"\n",
              "       width=\"24px\">\n",
              "    <path d=\"M0 0h24v24H0V0z\" fill=\"none\"/>\n",
              "    <path d=\"M18.56 5.44l.94 2.06.94-2.06 2.06-.94-2.06-.94-.94-2.06-.94 2.06-2.06.94zm-11 1L8.5 8.5l.94-2.06 2.06-.94-2.06-.94L8.5 2.5l-.94 2.06-2.06.94zm10 10l.94 2.06.94-2.06 2.06-.94-2.06-.94-.94-2.06-.94 2.06-2.06.94z\"/><path d=\"M17.41 7.96l-1.37-1.37c-.4-.4-.92-.59-1.43-.59-.52 0-1.04.2-1.43.59L10.3 9.45l-7.72 7.72c-.78.78-.78 2.05 0 2.83L4 21.41c.39.39.9.59 1.41.59.51 0 1.02-.2 1.41-.59l7.78-7.78 2.81-2.81c.8-.78.8-2.07 0-2.86zM5.41 20L4 18.59l7.72-7.72 1.47 1.35L5.41 20z\"/>\n",
              "  </svg>\n",
              "      </button>\n",
              "      \n",
              "  <style>\n",
              "    .colab-df-container {\n",
              "      display:flex;\n",
              "      flex-wrap:wrap;\n",
              "      gap: 12px;\n",
              "    }\n",
              "\n",
              "    .colab-df-convert {\n",
              "      background-color: #E8F0FE;\n",
              "      border: none;\n",
              "      border-radius: 50%;\n",
              "      cursor: pointer;\n",
              "      display: none;\n",
              "      fill: #1967D2;\n",
              "      height: 32px;\n",
              "      padding: 0 0 0 0;\n",
              "      width: 32px;\n",
              "    }\n",
              "\n",
              "    .colab-df-convert:hover {\n",
              "      background-color: #E2EBFA;\n",
              "      box-shadow: 0px 1px 2px rgba(60, 64, 67, 0.3), 0px 1px 3px 1px rgba(60, 64, 67, 0.15);\n",
              "      fill: #174EA6;\n",
              "    }\n",
              "\n",
              "    [theme=dark] .colab-df-convert {\n",
              "      background-color: #3B4455;\n",
              "      fill: #D2E3FC;\n",
              "    }\n",
              "\n",
              "    [theme=dark] .colab-df-convert:hover {\n",
              "      background-color: #434B5C;\n",
              "      box-shadow: 0px 1px 3px 1px rgba(0, 0, 0, 0.15);\n",
              "      filter: drop-shadow(0px 1px 2px rgba(0, 0, 0, 0.3));\n",
              "      fill: #FFFFFF;\n",
              "    }\n",
              "  </style>\n",
              "\n",
              "      <script>\n",
              "        const buttonEl =\n",
              "          document.querySelector('#df-840b0cdf-6829-48d8-a7ed-5a1f628378c2 button.colab-df-convert');\n",
              "        buttonEl.style.display =\n",
              "          google.colab.kernel.accessAllowed ? 'block' : 'none';\n",
              "\n",
              "        async function convertToInteractive(key) {\n",
              "          const element = document.querySelector('#df-840b0cdf-6829-48d8-a7ed-5a1f628378c2');\n",
              "          const dataTable =\n",
              "            await google.colab.kernel.invokeFunction('convertToInteractive',\n",
              "                                                     [key], {});\n",
              "          if (!dataTable) return;\n",
              "\n",
              "          const docLinkHtml = 'Like what you see? Visit the ' +\n",
              "            '<a target=\"_blank\" href=https://colab.research.google.com/notebooks/data_table.ipynb>data table notebook</a>'\n",
              "            + ' to learn more about interactive tables.';\n",
              "          element.innerHTML = '';\n",
              "          dataTable['output_type'] = 'display_data';\n",
              "          await google.colab.output.renderOutput(dataTable, element);\n",
              "          const docLink = document.createElement('div');\n",
              "          docLink.innerHTML = docLinkHtml;\n",
              "          element.appendChild(docLink);\n",
              "        }\n",
              "      </script>\n",
              "    </div>\n",
              "  </div>\n",
              "  "
            ]
          },
          "metadata": {},
          "execution_count": 6
        }
      ]
    },
    {
      "cell_type": "markdown",
      "source": [
        "## Q1\n",
        "先のモデルについて、訓練データを用いた**5分割**交差検証により**F値**を評価指標として最適な正則化項の係数を決定する以下の`model_selection1`関数を作成してください。`model_selection1`関数は訓練データの入力、訓練データの出力をそれぞれ引数に受け取り、交差検証に基づいてハイパーパラメータ`C`の最適な値（`C`の値の逆数が正則化項の係数）を返します。\n",
        "\n",
        "- `C`は、 `0.01`, `0.1`, `1`, `10`, `100`のいずれかとします。"
      ],
      "metadata": {
        "id": "H4Ik20jeZs45"
      }
    },
    {
      "cell_type": "code",
      "source": [
        "def model_selection1(X_train, y_train):\n",
        "    pipe = make_pipeline(StandardScaler(), LogisticRegression(solver='liblinear', multi_class='auto'))\n",
        "    param_grid = {'logisticregression__C': [0.01, 0.1, 1, 10, 100]}\n",
        "    grid = GridSearchCV(pipe, param_grid=param_grid, scoring=\"f1\", cv=5)\n",
        "    grid.fit(X_train, y_train)\n",
        "    return grid.best_params_['logisticregression__C'], grid.best_score_"
      ],
      "metadata": {
        "id": "C6Nm3vWBZiiy",
        "exercise_id": "q1",
        "inlinetests": {
          "InlineTest_1": "\nassert 'model_selection1' in globals(), f\"Have you defined the function 'model_selection1'?\"\nassert str(model_selection1.__class__) == \"<class 'function'>\", f\"Have you defined a function 'model_selection1'? Found a {model_selection1.__class__} instead\"\ntry:\n    cv_results = model_selection1(X_train, y_train)\n    assert cv_results[0] == 10, f\"Your function 'model_selection1' returns {model_selection1(X_train, y_train)}, while the expected (10, 0.7614...)\"\nexcept AssertionError as e:\n    raise e\nexcept Exception as e:\n    assert False, f\"Your function 'model_selection1' does not accept 'X_train, y_train' and raises an exception: {e}. Please try to pass 'X_train, y_train' to your function.\""
        }
      },
      "execution_count": 23,
      "outputs": []
    },
    {
      "cell_type": "markdown",
      "source": [
        "関数が完成したら以下のセルを実行して動作を確認してください。交差検証の結果、最適な`C`の値は10、その時のF値は0.7614...となります。"
      ],
      "metadata": {
        "id": "skAH21aYkWTU"
      }
    },
    {
      "cell_type": "code",
      "source": [
        "model_selection1(X_train, y_train)"
      ],
      "metadata": {
        "id": "4RGWUy8Kd0zc",
        "outputId": "05cf2471-79f2-4d4f-bfd7-af582684006f",
        "colab": {
          "base_uri": "https://localhost:8080/"
        }
      },
      "execution_count": 24,
      "outputs": [
        {
          "output_type": "execute_result",
          "data": {
            "text/plain": [
              "(10, 0.7614745261333012)"
            ]
          },
          "metadata": {},
          "execution_count": 24
        }
      ]
    },
    {
      "cell_type": "markdown",
      "source": [
        "## Q2\n",
        "Q1のモデルについて、さらに多項式を用いた特徴量生成によりモデルを複雑化することを考えます。訓練データを用いた**5分割**交差検証により**F値**を評価指標として最適な正則化項の係数と多項式の次数の組み合わせ決定する以下の`model_selection2`関数を作成してください。`model_selection2`関数は訓練データの入力、訓練データの出力をそれぞれ引数に受け取り、交差検証に基づいてハイパーパラメータ`C`と次数`degree`の最適な値を返します。\n",
        "\n",
        "- `C`は、 `0.01`, `0.1`, `1`, `10`, `100`のいずれかとします。\n",
        "- 多項式の次数`degree`は、`1`, `2`, `3`のいずれかとします。\n"
      ],
      "metadata": {
        "id": "eezRUlv8mO3p"
      }
    },
    {
      "cell_type": "code",
      "source": [
        "def model_selection2(X_train, y_train):\n",
        "    pipe = make_pipeline(PolynomialFeatures(), StandardScaler(), LogisticRegression(solver='liblinear', multi_class='auto'))\n",
        "    param_grid = {'logisticregression__C': [0.01, 0.1, 1, 10, 100], 'polynomialfeatures__degree':[1,2,3]}\n",
        "    grid = GridSearchCV(pipe, param_grid=param_grid, scoring=\"f1\", cv=5)\n",
        "    grid.fit(X_train, y_train)\n",
        "    return grid.best_params_['logisticregression__C'], grid.best_params_['polynomialfeatures__degree'], grid.best_score_"
      ],
      "metadata": {
        "id": "s53vGvvam2Q1",
        "exercise_id": "q2",
        "inlinetests": {
          "InlineTest_2": "\nassert 'model_selection2' in globals(), f\"Have you defined the function 'model_selection2'?\"\nassert str(model_selection2.__class__) == \"<class 'function'>\", f\"Have you defined a function 'model_selection2'? Found a {model_selection1.__class__} instead\"\ntry:\n    cv_results = model_selection2(X_train, y_train)\n    assert cv_results[0] == 0.1, f\"Your function 'model_selection1' returns {model_selection2(X_train, y_train)}, while the expected (0.1, 3, 0.7664...)\"\n    assert cv_results[1] == 3, f\"Your function 'model_selection1' returns {model_selection2(X_train, y_train)}, while the expected (0.1, 3, 0.7664...)\"\nexcept AssertionError as e:\n    raise e\nexcept Exception as e:\n    assert False, f\"Your function 'model_selection2' does not accept 'X_train, y_train' and raises an exception: {e}. Please try to pass 'X_train, y_train' to your function.\""
        }
      },
      "execution_count": 25,
      "outputs": []
    },
    {
      "cell_type": "markdown",
      "source": [
        "関数が完成したら以下のセルを実行して動作を確認してください（少し時間がかかります）。交差検証の結果、最適な`C`の値は0.1、`degree`の値は3、その時のF値は0.7664...となります。"
      ],
      "metadata": {
        "id": "PVUHpw6_n3g7"
      }
    },
    {
      "cell_type": "code",
      "source": [
        "optimal_C, optimal_degree, valid_f1 = model_selection2(X_train, y_train)\n",
        "print(optimal_C, optimal_degree, valid_f1)"
      ],
      "metadata": {
        "id": "YxbHNmLTn423",
        "outputId": "1445ba60-0069-43c6-fdee-69e7d8647d44",
        "colab": {
          "base_uri": "https://localhost:8080/"
        }
      },
      "execution_count": 26,
      "outputs": [
        {
          "output_type": "stream",
          "name": "stdout",
          "text": [
            "0.1 3 0.7664386090983467\n"
          ]
        }
      ]
    },
    {
      "cell_type": "markdown",
      "source": [
        "Q2の交差検証で決定した正則化項の係数と多項式の次数により訓練データからロジスティック回帰モデルを学習し、テストデータで評価を行ってみます。モデル選択をする前と比べた予測精度の変化を確認してください。"
      ],
      "metadata": {
        "id": "L-18GnIIqQJX"
      }
    },
    {
      "cell_type": "code",
      "source": [
        "pipe = make_pipeline(PolynomialFeatures(degree=optimal_degree), StandardScaler(), LogisticRegression(solver='liblinear',  multi_class='auto', C=optimal_C))\n",
        "pipe.fit(X_train,y_train)\n",
        "y_pred = pipe.predict(X_test)\n",
        "\n",
        "print(confusion_matrix(y_test, y_pred)) # 混同行列\n",
        "print(accuracy_score(y_test, y_pred)) # accuracy\n",
        "print(precision_score(y_test, y_pred)) # precision\n",
        "print(recall_score(y_test, y_pred)) # recall\n",
        "print(f1_score(y_test, y_pred))  # f値"
      ],
      "metadata": {
        "id": "F24Ww2PJwdLN",
        "outputId": "09a960e9-8158-429b-b4f1-fcfdeec46888",
        "colab": {
          "base_uri": "https://localhost:8080/"
        }
      },
      "execution_count": 27,
      "outputs": [
        {
          "output_type": "stream",
          "name": "stdout",
          "text": [
            "[[112  37]\n",
            " [ 45 126]]\n",
            "0.74375\n",
            "0.7730061349693251\n",
            "0.7368421052631579\n",
            "0.7544910179640718\n"
          ]
        }
      ]
    },
    {
      "cell_type": "markdown",
      "source": [
        "## Q3\n",
        "上記のロジスティック回帰モデルによるワイン品質の分類問題について、独自に特徴量の前処理、変換、選択、作成などを行い、その時のテストデータの精度を確認してください。"
      ],
      "metadata": {
        "id": "1YYiPufUrrur"
      }
    },
    {
      "cell_type": "code",
      "source": [
        "X=df[ ['fixed acidity','volatile acidity','citric acid','residual sugar','chlorides','free sulfur dioxide', 'total sulfur dioxide', 'density', 'pH', 'sulphates','alcohol']].values\n",
        "y=df['quality'].values\n",
        "y = (y>=6).astype(int)\n",
        "X_train, X_test, y_train, y_test = train_test_split(X, y, test_size=0.2, random_state=8, stratify=y)\n",
        "\n",
        "# ...\n",
        "# X_train = # your own X_train here \n",
        "# X_test = # your own X_test here\n",
        "\n",
        "lr = LogisticRegression(solver='liblinear',  multi_class='auto') \n",
        "lr.fit(X_train, y_train)     \n",
        "y_pred = lr.predict(X_test)\n",
        "\n",
        "print(confusion_matrix(y_test, y_pred)) # 混同行列\n",
        "print(accuracy_score(y_test, y_pred)) # accuracy\n",
        "print(precision_score(y_test, y_pred)) # precision\n",
        "print(recall_score(y_test, y_pred)) # recall\n",
        "print(f1_score(y_test, y_pred))  # f値"
      ],
      "metadata": {
        "id": "bE1sjIegrp2r",
        "colab": {
          "base_uri": "https://localhost:8080/"
        },
        "outputId": "f31df29a-6242-4050-d10f-4ac37a4534ea"
      },
      "execution_count": 33,
      "outputs": [
        {
          "output_type": "stream",
          "name": "stdout",
          "text": [
            "[[107  42]\n",
            " [ 46 125]]\n",
            "0.725\n",
            "0.7485029940119761\n",
            "0.7309941520467836\n",
            "0.7396449704142013\n"
          ]
        }
      ]
    },
    {
      "cell_type": "markdown",
      "source": [
        "## コードのテスト"
      ],
      "metadata": {
        "id": "FRJi1O44aOm_"
      }
    },
    {
      "cell_type": "code",
      "source": [
        "## コードのテストの前にこのセルを実行してください\n",
        "!pip install prog_edu_assistant_tools\n",
        "import re\n",
        "import sys\n",
        "import jinja2\n",
        "from IPython.core import display\n",
        "from google.colab import _message as google_message\n",
        "from prog_edu_assistant_tools.magics import report, autotest, CaptureOutput\n",
        "from prog_edu_assistant_tools.check import Check"
      ],
      "metadata": {
        "id": "95pH5O5LaSq7",
        "colab": {
          "base_uri": "https://localhost:8080/"
        },
        "outputId": "1dceedbb-6f88-4449-f4c5-ba286fb808c0"
      },
      "execution_count": 29,
      "outputs": [
        {
          "output_type": "stream",
          "name": "stdout",
          "text": [
            "Looking in indexes: https://pypi.org/simple, https://us-python.pkg.dev/colab-wheels/public/simple/\n",
            "Collecting prog_edu_assistant_tools\n",
            "  Downloading prog_edu_assistant_tools-0.3.1-py3-none-any.whl (16 kB)\n",
            "Requirement already satisfied: IPython in /usr/local/lib/python3.8/dist-packages (from prog_edu_assistant_tools) (7.9.0)\n",
            "Requirement already satisfied: Jinja2 in /usr/local/lib/python3.8/dist-packages (from prog_edu_assistant_tools) (2.11.3)\n",
            "Requirement already satisfied: pickleshare in /usr/local/lib/python3.8/dist-packages (from IPython->prog_edu_assistant_tools) (0.7.5)\n",
            "Collecting jedi>=0.10\n",
            "  Downloading jedi-0.18.2-py2.py3-none-any.whl (1.6 MB)\n",
            "\u001b[K     |████████████████████████████████| 1.6 MB 5.1 MB/s \n",
            "\u001b[?25hRequirement already satisfied: setuptools>=18.5 in /usr/local/lib/python3.8/dist-packages (from IPython->prog_edu_assistant_tools) (57.4.0)\n",
            "Requirement already satisfied: backcall in /usr/local/lib/python3.8/dist-packages (from IPython->prog_edu_assistant_tools) (0.2.0)\n",
            "Requirement already satisfied: traitlets>=4.2 in /usr/local/lib/python3.8/dist-packages (from IPython->prog_edu_assistant_tools) (5.7.1)\n",
            "Requirement already satisfied: pexpect in /usr/local/lib/python3.8/dist-packages (from IPython->prog_edu_assistant_tools) (4.8.0)\n",
            "Requirement already satisfied: decorator in /usr/local/lib/python3.8/dist-packages (from IPython->prog_edu_assistant_tools) (4.4.2)\n",
            "Requirement already satisfied: pygments in /usr/local/lib/python3.8/dist-packages (from IPython->prog_edu_assistant_tools) (2.6.1)\n",
            "Requirement already satisfied: prompt-toolkit<2.1.0,>=2.0.0 in /usr/local/lib/python3.8/dist-packages (from IPython->prog_edu_assistant_tools) (2.0.10)\n",
            "Requirement already satisfied: parso<0.9.0,>=0.8.0 in /usr/local/lib/python3.8/dist-packages (from jedi>=0.10->IPython->prog_edu_assistant_tools) (0.8.3)\n",
            "Requirement already satisfied: wcwidth in /usr/local/lib/python3.8/dist-packages (from prompt-toolkit<2.1.0,>=2.0.0->IPython->prog_edu_assistant_tools) (0.2.5)\n",
            "Requirement already satisfied: six>=1.9.0 in /usr/local/lib/python3.8/dist-packages (from prompt-toolkit<2.1.0,>=2.0.0->IPython->prog_edu_assistant_tools) (1.15.0)\n",
            "Requirement already satisfied: MarkupSafe>=0.23 in /usr/local/lib/python3.8/dist-packages (from Jinja2->prog_edu_assistant_tools) (2.0.1)\n",
            "Requirement already satisfied: ptyprocess>=0.5 in /usr/local/lib/python3.8/dist-packages (from pexpect->IPython->prog_edu_assistant_tools) (0.7.0)\n",
            "Installing collected packages: jedi, prog-edu-assistant-tools\n",
            "Successfully installed jedi-0.18.2 prog-edu-assistant-tools-0.3.1\n"
          ]
        }
      ]
    },
    {
      "cell_type": "markdown",
      "source": [
        "## Q1"
      ],
      "metadata": {
        "id": "opnewwwYacFj"
      }
    },
    {
      "cell_type": "code",
      "source": [
        "# Run this cell to check your solution.\n",
        "# If you get an error 'Check not defined', make sure you have run all preceding\n",
        "# cells once (Runtime -> Run before)\n",
        "X=df[ ['fixed acidity','volatile acidity','citric acid','residual sugar','chlorides','free sulfur dioxide', 'total sulfur dioxide', 'density', 'pH', 'sulphates','alcohol']].values\n",
        "y=df['quality'].values\n",
        "y = (y>=6).astype(int)\n",
        "X_train, X_test, y_train, y_test = train_test_split(X, y, test_size=0.2, random_state=8, stratify=y) \n",
        "Check('q1')"
      ],
      "metadata": {
        "id": "bQU6fKfTafuh",
        "colab": {
          "base_uri": "https://localhost:8080/",
          "height": 230
        },
        "outputId": "4b5ef00b-7bf0-4a8d-c17c-7eafe1f47139"
      },
      "execution_count": 30,
      "outputs": [
        {
          "output_type": "execute_result",
          "data": {
            "text/plain": [
              "<IPython.core.display.HTML object>"
            ],
            "text/html": [
              "\n",
              "  <h4 style='color: #387;'>Your submission</h4>\n",
              "  <pre style='background: #F0F0F0; padding: 3pt; margin: 4pt; border: 1pt solid #DDD; border-radius: 3pt;'>def model_selection1(X_train, y_train):\n",
              "    pipe = make_pipeline(StandardScaler(), LogisticRegression(solver='liblinear', multi_class='auto'))\n",
              "    param_grid = {'logisticregression__C': [0.01, 0.1, 1, 10, 100]}\n",
              "    grid = GridSearchCV(pipe, param_grid=param_grid, scoring=\"f1\", cv=5)\n",
              "    grid.fit(X_train, y_train)\n",
              "    return grid.best_params_['logisticregression__C'], grid.best_score_</pre>\n",
              "  <h4 style='color: #387;'>Results</h4>\n",
              "  \n",
              "  &#x2705;\n",
              "  Looks OK.\n",
              "  "
            ]
          },
          "metadata": {},
          "execution_count": 30
        }
      ]
    },
    {
      "cell_type": "markdown",
      "source": [
        "## Q2\n",
        "少し時間がかかります"
      ],
      "metadata": {
        "id": "GAiAArQdaiXP"
      }
    },
    {
      "cell_type": "code",
      "source": [
        "# Run this cell to check your solution.\n",
        "# If you get an error 'Check not defined', make sure you have run all preceding\n",
        "# cells once (Runtime -> Run before)\n",
        "X=df[ ['fixed acidity','volatile acidity','citric acid','residual sugar','chlorides','free sulfur dioxide', 'total sulfur dioxide', 'density', 'pH', 'sulphates','alcohol']].values\n",
        "y=df['quality'].values\n",
        "y = (y>=6).astype(int)\n",
        "X_train, X_test, y_train, y_test = train_test_split(X, y, test_size=0.2, random_state=8, stratify=y)\n",
        "Check('q2')"
      ],
      "metadata": {
        "id": "vxHMyApdajIJ",
        "colab": {
          "base_uri": "https://localhost:8080/",
          "height": 230
        },
        "outputId": "1548900a-0650-4863-ba46-a74ece38c1b1"
      },
      "execution_count": 31,
      "outputs": [
        {
          "output_type": "execute_result",
          "data": {
            "text/plain": [
              "<IPython.core.display.HTML object>"
            ],
            "text/html": [
              "\n",
              "  <h4 style='color: #387;'>Your submission</h4>\n",
              "  <pre style='background: #F0F0F0; padding: 3pt; margin: 4pt; border: 1pt solid #DDD; border-radius: 3pt;'>def model_selection2(X_train, y_train):\n",
              "    pipe = make_pipeline(PolynomialFeatures(), StandardScaler(), LogisticRegression(solver='liblinear', multi_class='auto'))\n",
              "    param_grid = {'logisticregression__C': [0.01, 0.1, 1, 10, 100], 'polynomialfeatures__degree':[1,2,3]}\n",
              "    grid = GridSearchCV(pipe, param_grid=param_grid, scoring=\"f1\", cv=5)\n",
              "    grid.fit(X_train, y_train)\n",
              "    return grid.best_params_['logisticregression__C'], grid.best_params_['polynomialfeatures__degree'], grid.best_score_</pre>\n",
              "  <h4 style='color: #387;'>Results</h4>\n",
              "  \n",
              "  &#x2705;\n",
              "  Looks OK.\n",
              "  "
            ]
          },
          "metadata": {},
          "execution_count": 31
        }
      ]
    },
    {
      "cell_type": "code",
      "source": [],
      "metadata": {
        "id": "zc8GYiTWvdw2"
      },
      "execution_count": null,
      "outputs": []
    }
  ]
}